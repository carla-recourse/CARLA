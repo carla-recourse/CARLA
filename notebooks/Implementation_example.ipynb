{
 "cells": [
  {
   "cell_type": "markdown",
   "id": "resident-orleans",
   "metadata": {},
   "source": [
    "# Implementation examples for different usages of CARLA"
   ]
  },
  {
   "cell_type": "markdown",
   "id": "musical-gasoline",
   "metadata": {},
   "source": [
    "## CARLA as recourse library"
   ]
  },
  {
   "cell_type": "markdown",
   "id": "cardiac-brake",
   "metadata": {},
   "source": [
    "In the following cell we show how to use CARLA with our catalog black-box-models and data."
   ]
  },
  {
   "cell_type": "code",
   "execution_count": 1,
   "id": "experimental-happening",
   "metadata": {},
   "outputs": [
    {
     "name": "stderr",
     "output_type": "stream",
     "text": [
      "d:\\eigene dateien\\uni\\master\\4_semester_ss21\\masterarbeit\\gitroot\\carla\\venv\\lib\\site-packages\\tensorflow\\python\\framework\\dtypes.py:516: FutureWarning: Passing (type, 1) or '1type' as a synonym of type is deprecated; in a future version of numpy, it will be understood as (type, (1,)) / '(1,)type'.\n",
      "  _np_qint8 = np.dtype([(\"qint8\", np.int8, 1)])\n",
      "d:\\eigene dateien\\uni\\master\\4_semester_ss21\\masterarbeit\\gitroot\\carla\\venv\\lib\\site-packages\\tensorflow\\python\\framework\\dtypes.py:517: FutureWarning: Passing (type, 1) or '1type' as a synonym of type is deprecated; in a future version of numpy, it will be understood as (type, (1,)) / '(1,)type'.\n",
      "  _np_quint8 = np.dtype([(\"quint8\", np.uint8, 1)])\n",
      "d:\\eigene dateien\\uni\\master\\4_semester_ss21\\masterarbeit\\gitroot\\carla\\venv\\lib\\site-packages\\tensorflow\\python\\framework\\dtypes.py:518: FutureWarning: Passing (type, 1) or '1type' as a synonym of type is deprecated; in a future version of numpy, it will be understood as (type, (1,)) / '(1,)type'.\n",
      "  _np_qint16 = np.dtype([(\"qint16\", np.int16, 1)])\n",
      "d:\\eigene dateien\\uni\\master\\4_semester_ss21\\masterarbeit\\gitroot\\carla\\venv\\lib\\site-packages\\tensorflow\\python\\framework\\dtypes.py:519: FutureWarning: Passing (type, 1) or '1type' as a synonym of type is deprecated; in a future version of numpy, it will be understood as (type, (1,)) / '(1,)type'.\n",
      "  _np_quint16 = np.dtype([(\"quint16\", np.uint16, 1)])\n",
      "d:\\eigene dateien\\uni\\master\\4_semester_ss21\\masterarbeit\\gitroot\\carla\\venv\\lib\\site-packages\\tensorflow\\python\\framework\\dtypes.py:520: FutureWarning: Passing (type, 1) or '1type' as a synonym of type is deprecated; in a future version of numpy, it will be understood as (type, (1,)) / '(1,)type'.\n",
      "  _np_qint32 = np.dtype([(\"qint32\", np.int32, 1)])\n",
      "d:\\eigene dateien\\uni\\master\\4_semester_ss21\\masterarbeit\\gitroot\\carla\\venv\\lib\\site-packages\\tensorflow\\python\\framework\\dtypes.py:525: FutureWarning: Passing (type, 1) or '1type' as a synonym of type is deprecated; in a future version of numpy, it will be understood as (type, (1,)) / '(1,)type'.\n",
      "  np_resource = np.dtype([(\"resource\", np.ubyte, 1)])\n",
      "d:\\eigene dateien\\uni\\master\\4_semester_ss21\\masterarbeit\\gitroot\\carla\\venv\\lib\\site-packages\\tensorboard\\compat\\tensorflow_stub\\dtypes.py:541: FutureWarning: Passing (type, 1) or '1type' as a synonym of type is deprecated; in a future version of numpy, it will be understood as (type, (1,)) / '(1,)type'.\n",
      "  _np_qint8 = np.dtype([(\"qint8\", np.int8, 1)])\n",
      "d:\\eigene dateien\\uni\\master\\4_semester_ss21\\masterarbeit\\gitroot\\carla\\venv\\lib\\site-packages\\tensorboard\\compat\\tensorflow_stub\\dtypes.py:542: FutureWarning: Passing (type, 1) or '1type' as a synonym of type is deprecated; in a future version of numpy, it will be understood as (type, (1,)) / '(1,)type'.\n",
      "  _np_quint8 = np.dtype([(\"quint8\", np.uint8, 1)])\n",
      "d:\\eigene dateien\\uni\\master\\4_semester_ss21\\masterarbeit\\gitroot\\carla\\venv\\lib\\site-packages\\tensorboard\\compat\\tensorflow_stub\\dtypes.py:543: FutureWarning: Passing (type, 1) or '1type' as a synonym of type is deprecated; in a future version of numpy, it will be understood as (type, (1,)) / '(1,)type'.\n",
      "  _np_qint16 = np.dtype([(\"qint16\", np.int16, 1)])\n",
      "d:\\eigene dateien\\uni\\master\\4_semester_ss21\\masterarbeit\\gitroot\\carla\\venv\\lib\\site-packages\\tensorboard\\compat\\tensorflow_stub\\dtypes.py:544: FutureWarning: Passing (type, 1) or '1type' as a synonym of type is deprecated; in a future version of numpy, it will be understood as (type, (1,)) / '(1,)type'.\n",
      "  _np_quint16 = np.dtype([(\"quint16\", np.uint16, 1)])\n",
      "d:\\eigene dateien\\uni\\master\\4_semester_ss21\\masterarbeit\\gitroot\\carla\\venv\\lib\\site-packages\\tensorboard\\compat\\tensorflow_stub\\dtypes.py:545: FutureWarning: Passing (type, 1) or '1type' as a synonym of type is deprecated; in a future version of numpy, it will be understood as (type, (1,)) / '(1,)type'.\n",
      "  _np_qint32 = np.dtype([(\"qint32\", np.int32, 1)])\n",
      "d:\\eigene dateien\\uni\\master\\4_semester_ss21\\masterarbeit\\gitroot\\carla\\venv\\lib\\site-packages\\tensorboard\\compat\\tensorflow_stub\\dtypes.py:550: FutureWarning: Passing (type, 1) or '1type' as a synonym of type is deprecated; in a future version of numpy, it will be understood as (type, (1,)) / '(1,)type'.\n",
      "  np_resource = np.dtype([(\"resource\", np.ubyte, 1)])\n"
     ]
    },
    {
     "name": "stdout",
     "output_type": "stream",
     "text": [
      "Using Python-MIP package version 1.12.0\n"
     ]
    },
    {
     "name": "stderr",
     "output_type": "stream",
     "text": [
      "Using TensorFlow backend.\n"
     ]
    },
    {
     "name": "stdout",
     "output_type": "stream",
     "text": [
      "From d:\\eigene dateien\\uni\\master\\4_semester_ss21\\masterarbeit\\gitroot\\carla\\venv\\lib\\site-packages\\tensorflow\\python\\ops\\init_ops.py:97: calling VarianceScaling.__init__ (from tensorflow.python.ops.init_ops) with dtype is deprecated and will be removed in a future version.\n",
      "Instructions for updating:\n",
      "Call initializer instance with the dtype argument instead of passing it to the constructor\n",
      "From d:\\eigene dateien\\uni\\master\\4_semester_ss21\\masterarbeit\\gitroot\\carla\\venv\\lib\\site-packages\\tensorflow\\python\\ops\\init_ops.py:97: calling Zeros.__init__ (from tensorflow.python.ops.init_ops) with dtype is deprecated and will be removed in a future version.\n",
      "Instructions for updating:\n",
      "Call initializer instance with the dtype argument instead of passing it to the constructor\n",
      "        age    fnlwgt  education-num  capital-gain  capital-loss  ...  \\\n",
      "0  0.301370  0.075433       0.891804      0.036070      0.065560  ...   \n",
      "1  0.452055  0.071319       0.781081      0.041491      0.022579  ...   \n",
      "2  0.287671  0.087709       0.593357      0.153452     -0.046427  ...   \n",
      "3  0.493151  0.193072       0.412353      0.074070      0.023609  ...   \n",
      "4  0.150685  0.229586       0.798039      0.013605      0.005991  ...   \n",
      "\n",
      "   relationship_Non-Husband  race_White  sex_Male  native-country_US  income  \n",
      "0                       1.0         1.0       1.0                1.0     1.0  \n",
      "1                       0.0         1.0       1.0                1.0     1.0  \n",
      "2                       1.0         1.0       1.0                1.0     1.0  \n",
      "3                       0.0         0.0       1.0                1.0     1.0  \n",
      "4                       1.0         0.0       0.0                0.0     1.0  \n",
      "\n",
      "[5 rows x 14 columns]\n"
     ]
    }
   ],
   "source": [
    "import os\n",
    "os.chdir(\"../\")\n",
    "\n",
    "from carla import DataCatalog, MLModelCatalog, log\n",
    "from carla.recourse_methods import GrowingSpheres\n",
    "\n",
    "# load catalog dataset\n",
    "data_name = \"adult\"\n",
    "dataset = DataCatalog(data_name)\n",
    "\n",
    "# load artificial neural network from catalog\n",
    "model = MLModelCatalog(dataset, \"ann\")\n",
    "\n",
    "# get some factuals from the data to generate counterfactual examples\n",
    "factuals = dataset.raw.iloc[:10]\n",
    "\n",
    "# load recourse model with model specific hyperparameter\n",
    "gs = GrowingSpheres(model)\n",
    "\n",
    "# generate counterfactual examples\n",
    "counterfactuals = gs.get_counterfactuals(factuals)\n",
    "\n",
    "log.info(counterfactuals.head(5))"
   ]
  },
  {
   "cell_type": "markdown",
   "id": "collected-convert",
   "metadata": {
    "pycharm": {
     "name": "#%% md\n"
    }
   },
   "source": [
    "If a user is interested in using its own black-box-model or dataset, we provide an easy-to-use interface in CARLA to\n",
    "wrap every possible model or dataset. Below we want to give a pseudo-code implementation of such an use-case.\n"
   ]
  },
  {
   "cell_type": "code",
   "execution_count": null,
   "id": "270211f6",
   "metadata": {
    "pycharm": {
     "name": "#%%\n"
    }
   },
   "outputs": [],
   "source": [
    "from carla import Data, MLModel\n",
    "from carla.recourse_methods import GrowingSpheres\n",
    "\n",
    "# first implement the dataset wrapper\n",
    "class MyOwnData(Data):\n",
    "    def __init__(self):\n",
    "        # the dataset could be loaded in the constructor\n",
    "        self._dataset = load_dataset_from_disk()\n",
    "\n",
    "    def categoricals(self):\n",
    "        # this property contains a list of all categorical features\n",
    "        return [...]\n",
    "\n",
    "    def continous(self):\n",
    "        # this property contains a list of all continuous features\n",
    "        return [...]\n",
    "\n",
    "    def immutables(self):\n",
    "        # this property contains a list of features which should not be changed by the recourse method\n",
    "        return [...]\n",
    "\n",
    "    def target(self):\n",
    "        # this property contains the feature name of the target column\n",
    "        return \"label\"\n",
    "\n",
    "    def raw(self):\n",
    "        # this property contains the not encoded and not normalized, raw dataset\n",
    "        return self._dataset\n",
    "\n",
    "# second, implement the black-box-model wrapper\n",
    "class MyOwnModel(MLModel):\n",
    "    def __init__(self, data):\n",
    "        super().__init__(data)\n",
    "        # the constructor can be used to load or build an arbitrary black-box-model\n",
    "        self._mymodel = load_model()\n",
    "\n",
    "        # this property contains a fitted scaler to normalize input data\n",
    "        # MinMaxScaler from sklearn is predefined, but can be redefined by every other sklearn scaler\n",
    "        self.scaler = MySklearnScaler().fit()\n",
    "\n",
    "        # the same is possible for data encoding\n",
    "        # OneHotEncoder from sklearn with dropped first column for binary data is predefined, but can be\n",
    "        # changed into any other sklearn encoder.\n",
    "        self.encoder = MySklearnEncoder.fit()\n",
    "\n",
    "    def feature_input_order(self):\n",
    "        # this property contains a list of the correct input order of features for the ml model\n",
    "        return [...]\n",
    "\n",
    "    def backend(self):\n",
    "        # this property contains a string with the used backend of the model\n",
    "        return \"pytorch\"\n",
    "\n",
    "    def raw_model(self):\n",
    "        # this property contains the fitted/ loaded black-box-model\n",
    "        return self._mymodel\n",
    "\n",
    "    def predict(self, x: Union[np.ndarray, pd.DataFrame]):\n",
    "        # the predict function outputs the continous prediction of the model, similar to sklearn.\n",
    "        return self._mymodel.predict(x)\n",
    "\n",
    "    def predict_proba(self, x: Union[np.ndarray, pd.DataFrame]):\n",
    "        # the predict_proba method outputs the prediction as class probabilities, similar to sklearn\n",
    "        return self._mymodel.predict_proba(x)\n",
    "\n",
    "\n",
    "# after implementing the user-specific model and dataset, the call of the recourse method,\n",
    "# and the generation of counterfactuals stays the same.\n",
    "dataset = MyOwnData()\n",
    "model = MyOwnModel(dataset)\n",
    "\n",
    "# get some factuals from the data to generate counterfactual examples\n",
    "factuals = dataset.raw.iloc[:10]\n",
    "\n",
    "# load recourse model with model specific hyperparameter\n",
    "gs = GrowingSpheres(model)\n",
    "\n",
    "# generate counterfactual examples\n",
    "counterfactuals = gs.get_counterfactuals(factuals)"
   ]
  },
  {
   "cell_type": "markdown",
   "id": "17bccfc7",
   "metadata": {},
   "source": [
    "## CARLA for research groups\n",
    "\n",
    "New recourse methods can be implemented via a simple interface to benchmark new methods with already existing ones.\n",
    "The following example shows a pseudo-code example of how to integrate new recourse methods into CARLA."
   ]
  },
  {
   "cell_type": "code",
   "execution_count": null,
   "id": "8aa11ed0",
   "metadata": {
    "pycharm": {
     "name": "#%%\n"
    }
   },
   "outputs": [],
   "source": [
    "from carla import RecourseMethod\n",
    "\n",
    "# similar to data- and model wrapper, call the recourse method wrapper\n",
    "class MyRecourseMethod(RecourseMethod):\n",
    "    def __init__(self, mlmodel):\n",
    "        super().__init__(mlmodel)\n",
    "        # the constructor can be used to load the recourse method,\n",
    "        # or construct everything necessary\n",
    "\n",
    "    def get_counterfactuals(self, factuals: pd.DataFrame):\n",
    "        # this property is responsible to generate and output\n",
    "        # encoded and scaled counterfactual examples\n",
    "        # as pandas DataFrames\n",
    "        return counterfactual_examples\n"
   ]
  },
  {
   "cell_type": "markdown",
   "id": "6742481e",
   "metadata": {},
   "source": [
    "## Benchmarking recourse methods\n",
    "\n",
    "The following will show a simple way to use the Benchmarking-class for every wrapped recourse method."
   ]
  },
  {
   "cell_type": "code",
   "execution_count": 2,
   "id": "d2da7c60",
   "metadata": {
    "pycharm": {
     "name": "#%%\n"
    }
   },
   "outputs": [
    {
     "name": "stdout",
     "output_type": "stream",
     "text": [
      "   Distance_1  Distance_2  Distance_3  Distance_4  Constraint_Violation  \\\n",
      "0         6.0    1.241542    1.015364         1.0                     1   \n",
      "1         6.0    1.086494    1.001986         1.0                     0   \n",
      "2         7.0    2.152139    2.006682         1.0                     0   \n",
      "3         6.0    1.166120    1.007252         1.0                     0   \n",
      "4         6.0    1.050702    1.000691         1.0                     0   \n",
      "\n",
      "   Redundancy  y-Nearest-Neighbours  Success_Rate  Average_Time  \n",
      "0           4              0.285714           0.7      0.010788  \n",
      "1           4                   NaN           NaN           NaN  \n",
      "2           4                   NaN           NaN           NaN  \n",
      "3           3                   NaN           NaN           NaN  \n",
      "4           5                   NaN           NaN           NaN  \n"
     ]
    }
   ],
   "source": [
    "from carla import Benchmark\n",
    "\n",
    "# first initilize the benchmarking class by passing\n",
    "# black-box-model, recourse method, and factuals into it\n",
    "benchmark = Benchmark(model, gs, factuals)\n",
    "\n",
    "# now you can decide if you want to run all measurements\n",
    "# or just specific ones.\n",
    "\n",
    "# lets first compute the distance measure\n",
    "distances = benchmark.compute_distances()\n",
    "\n",
    "# now run all implemented measurements and create a\n",
    "# DataFrame which consists of all results\n",
    "results = benchmark.run_benchmark()\n",
    "\n",
    "print(results.head(5))"
   ]
  },
  {
   "cell_type": "code",
   "execution_count": null,
   "id": "25743e0c",
   "metadata": {},
   "outputs": [],
   "source": []
  }
 ],
 "metadata": {
  "kernelspec": {
   "display_name": "Python 3",
   "language": "python",
   "name": "python3"
  },
  "language_info": {
   "codemirror_mode": {
    "name": "ipython",
    "version": 3
   },
   "file_extension": ".py",
   "mimetype": "text/x-python",
   "name": "python",
   "nbconvert_exporter": "python",
   "pygments_lexer": "ipython3",
   "version": "3.7.9"
  }
 },
 "nbformat": 4,
 "nbformat_minor": 5
}
