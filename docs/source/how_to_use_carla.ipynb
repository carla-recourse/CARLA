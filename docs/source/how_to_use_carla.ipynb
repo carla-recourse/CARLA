{
 "cells": [
  {
   "cell_type": "markdown",
   "metadata": {
    "collapsed": true,
    "pycharm": {
     "name": "#%% md\n"
    }
   },
   "source": [
    "In the following notebook we will show how you can use the CARLA library."
   ]
  },
  {
   "cell_type": "markdown",
   "source": [
    "# Notebook\n",
    "\n",
    "## Data\n",
    "\n",
    "Before we can do anything else we need some data.\n",
    "You could import one of the datasets in our [OnlineCatalog](https://carla-counterfactual-and-recourse-library.readthedocs.io/en/latest/data.html#module-data.catalog.online_catalog),\n",
    "however maybe you want to use your own data instead. This can easily be done by using the [CsvCatalog](https://carla-counterfactual-and-recourse-library.readthedocs.io/en/latest/data.html#module-data.catalog.csv_catalog)."
   ],
   "metadata": {
    "collapsed": false,
    "pycharm": {
     "name": "#%% md\n"
    }
   }
  },
  {
   "cell_type": "code",
   "execution_count": 3,
   "outputs": [],
   "source": [
    "import warnings\n",
    "warnings.filterwarnings('ignore')\n",
    "\n",
    "from carla.data.catalog import CsvCatalog"
   ],
   "metadata": {
    "collapsed": false,
    "pycharm": {
     "name": "#%%\n"
    }
   }
  },
  {
   "cell_type": "code",
   "execution_count": 2,
   "outputs": [
    {
     "name": "stdout",
     "output_type": "stream",
     "text": [
      "            age    fnlwgt  education-num  capital-gain  capital-loss  ...  \\\n",
      "0      0.301370  0.044131       0.800000      0.021740           0.0  ...   \n",
      "1      0.452055  0.048052       0.800000      0.000000           0.0  ...   \n",
      "2      0.287671  0.137581       0.533333      0.000000           0.0  ...   \n",
      "3      0.493151  0.150486       0.400000      0.000000           0.0  ...   \n",
      "4      0.150685  0.220635       0.800000      0.000000           0.0  ...   \n",
      "...         ...       ...            ...           ...           ...  ...   \n",
      "48827  0.301370  0.137428       0.800000      0.000000           0.0  ...   \n",
      "48828  0.643836  0.209130       0.533333      0.000000           0.0  ...   \n",
      "48829  0.287671  0.245379       0.800000      0.000000           0.0  ...   \n",
      "48830  0.369863  0.048444       0.800000      0.054551           0.0  ...   \n",
      "48831  0.246575  0.114919       0.800000      0.000000           0.0  ...   \n",
      "\n",
      "       occupation_Other  race_White  relationship_Non-Husband  sex_Male  \\\n",
      "0                   0.0         1.0                       1.0       1.0   \n",
      "1                   0.0         1.0                       0.0       1.0   \n",
      "2                   1.0         1.0                       1.0       1.0   \n",
      "3                   1.0         0.0                       0.0       1.0   \n",
      "4                   0.0         0.0                       1.0       0.0   \n",
      "...                 ...         ...                       ...       ...   \n",
      "48827               0.0         1.0                       1.0       0.0   \n",
      "48828               0.0         0.0                       1.0       1.0   \n",
      "48829               0.0         1.0                       0.0       1.0   \n",
      "48830               0.0         0.0                       1.0       1.0   \n",
      "48831               0.0         1.0                       0.0       1.0   \n",
      "\n",
      "       workclass_Private  \n",
      "0                    0.0  \n",
      "1                    0.0  \n",
      "2                    1.0  \n",
      "3                    1.0  \n",
      "4                    1.0  \n",
      "...                  ...  \n",
      "48827                1.0  \n",
      "48828                1.0  \n",
      "48829                1.0  \n",
      "48830                1.0  \n",
      "48831                0.0  \n",
      "\n",
      "[48832 rows x 14 columns]\n"
     ]
    }
   ],
   "source": [
    "continuous = [\"age\", \"fnlwgt\", \"education-num\", \"capital-gain\", \"hours-per-week\", \"capital-loss\"]\n",
    "categorical = [\"marital-status\", \"native-country\", \"occupation\", \"race\", \"relationship\", \"sex\", \"workclass\"]\n",
    "immutable = [\"age\", \"sex\"]\n",
    "\n",
    "dataset = CsvCatalog(file_path=\"adult.csv\",\n",
    "                     continuous=continuous,\n",
    "                     categorical=categorical,\n",
    "                     immutables=immutable,\n",
    "                     target='income')\n",
    "\n",
    "print(dataset.df)"
   ],
   "metadata": {
    "collapsed": false,
    "pycharm": {
     "name": "#%%\n"
    }
   }
  },
  {
   "cell_type": "markdown",
   "source": [
    "## Model\n",
    "\n",
    "Now that we have the data loaded we also need a classification model.\n",
    "You could define your own [model](https://carla-counterfactual-and-recourse-library.readthedocs.io/en/latest/examples.html#black-box-model),\n",
    "however here we will show how you can train one of our [catalog](https://carla-counterfactual-and-recourse-library.readthedocs.io/en/latest/mlmodel.html#module-models.catalog.catalog) models.\n",
    "Note that depending on your data you might need to tweak the training hyperparameters."
   ],
   "metadata": {
    "collapsed": false,
    "pycharm": {
     "name": "#%% md\n"
    }
   }
  },
  {
   "cell_type": "code",
   "execution_count": 4,
   "outputs": [],
   "source": [
    "from carla.models.catalog import MLModelCatalog"
   ],
   "metadata": {
    "collapsed": false,
    "pycharm": {
     "name": "#%%\n"
    }
   }
  },
  {
   "cell_type": "code",
   "execution_count": 9,
   "outputs": [
    {
     "name": "stdout",
     "output_type": "stream",
     "text": [
      "balance on test set 0.2397608125819135, balance on test set 0.23804062909567497\n",
      "Epoch 0/9\n",
      "----------\n",
      "train Loss: 0.4660 Acc: 0.7750\n",
      "\n",
      "test Loss: 0.4003 Acc: 0.8048\n",
      "\n",
      "Epoch 1/9\n",
      "----------\n",
      "train Loss: 0.3926 Acc: 0.8112\n",
      "\n",
      "test Loss: 0.3731 Acc: 0.8213\n",
      "\n",
      "Epoch 2/9\n",
      "----------\n",
      "train Loss: 0.3726 Acc: 0.8233\n",
      "\n",
      "test Loss: 0.3570 Acc: 0.8304\n",
      "\n",
      "Epoch 3/9\n",
      "----------\n",
      "train Loss: 0.3608 Acc: 0.8304\n",
      "\n",
      "test Loss: 0.3534 Acc: 0.8316\n",
      "\n",
      "Epoch 4/9\n",
      "----------\n",
      "train Loss: 0.3527 Acc: 0.8334\n",
      "\n",
      "test Loss: 0.3430 Acc: 0.8369\n",
      "\n",
      "Epoch 5/9\n",
      "----------\n",
      "train Loss: 0.3489 Acc: 0.8343\n",
      "\n",
      "test Loss: 0.3543 Acc: 0.8351\n",
      "\n",
      "Epoch 6/9\n",
      "----------\n",
      "train Loss: 0.3439 Acc: 0.8368\n",
      "\n",
      "test Loss: 0.3350 Acc: 0.8410\n",
      "\n",
      "Epoch 7/9\n",
      "----------\n",
      "train Loss: 0.3410 Acc: 0.8371\n",
      "\n",
      "test Loss: 0.3450 Acc: 0.8351\n",
      "\n",
      "Epoch 8/9\n",
      "----------\n",
      "train Loss: 0.3376 Acc: 0.8405\n",
      "\n",
      "test Loss: 0.3308 Acc: 0.8439\n",
      "\n",
      "Epoch 9/9\n",
      "----------\n",
      "train Loss: 0.3386 Acc: 0.8401\n",
      "\n",
      "test Loss: 0.3403 Acc: 0.8403\n",
      "\n"
     ]
    }
   ],
   "source": [
    "training_params = {\"lr\": 0.002, \"epochs\": 10, \"batch_size\": 1024, \"hidden_size\": [18, 9, 3]}\n",
    "\n",
    "ml_model = MLModelCatalog(\n",
    "    dataset, model_type=\"ann\", load_online=False, backend=\"pytorch\"\n",
    ")\n",
    "ml_model.train(\n",
    "    learning_rate=training_params[\"lr\"],\n",
    "    epochs=training_params[\"epochs\"],\n",
    "    batch_size=training_params[\"batch_size\"],\n",
    "    hidden_size=training_params[\"hidden_size\"]\n",
    ")"
   ],
   "metadata": {
    "collapsed": false,
    "pycharm": {
     "name": "#%%\n"
    }
   }
  },
  {
   "cell_type": "markdown",
   "source": [
    "## Recourse\n",
    "\n",
    "Now that we have both the data, and a model we can start using CARLA to generate counterfactuals.\n",
    "You can pick a [recourse method](https://carla-counterfactual-and-recourse-library.readthedocs.io/en/latest/recourse.html) from the catalog, or implement one yourself.\n",
    "In the following example we are getting negative labeled samples for which we want counterfactuals."
   ],
   "metadata": {
    "collapsed": false,
    "pycharm": {
     "name": "#%% md\n"
    }
   }
  },
  {
   "cell_type": "code",
   "execution_count": 10,
   "outputs": [],
   "source": [
    "from carla.models.negative_instances import predict_negative_instances\n",
    "import carla.recourse_methods.catalog as recourse_catalog"
   ],
   "metadata": {
    "collapsed": false,
    "pycharm": {
     "name": "#%%\n"
    }
   }
  },
  {
   "cell_type": "code",
   "execution_count": 11,
   "outputs": [
    {
     "name": "stdout",
     "output_type": "stream",
     "text": [
      "[INFO] Counterfactual Explanation Found [wachter.py wachter_recourse]\n",
      "[INFO] Counterfactual Explanation Found [wachter.py wachter_recourse]\n",
      "[INFO] Counterfactual Explanation Found [wachter.py wachter_recourse]\n",
      "[INFO] Counterfactual Explanation Found [wachter.py wachter_recourse]\n",
      "[INFO] Counterfactual Explanation Found [wachter.py wachter_recourse]\n",
      "        age  capital-gain  capital-loss  education-num    fnlwgt  ...  \\\n",
      "0  0.367432      0.089006      0.066957       0.867384  0.112537  ...   \n",
      "1  0.481818      0.029809      0.029803       0.829806  0.077834  ...   \n",
      "2  0.443121      0.155943      0.155183       0.689581  0.185220  ...   \n",
      "3  0.557433      0.066598      0.066980       0.467272  0.217566  ...   \n",
      "4  0.293216      0.142940      0.141745       0.943278  0.328395  ...   \n",
      "\n",
      "   race_White  relationship_Non-Husband  sex_Male  workclass_Private  income  \n",
      "0         1.0                       1.0       0.0          -0.066813     1.0  \n",
      "1         1.0                       0.0       1.0           0.026993     1.0  \n",
      "2         0.0                       1.0       0.0           0.847155     1.0  \n",
      "3         0.0                       0.0       1.0           0.935313     1.0  \n",
      "4         0.0                       1.0       0.0           0.860906     1.0  \n",
      "\n",
      "[5 rows x 14 columns]\n"
     ]
    }
   ],
   "source": [
    "factuals = predict_negative_instances(ml_model, dataset.df)\n",
    "test_factual = factuals.iloc[:5]"
   ],
   "metadata": {
    "collapsed": false,
    "pycharm": {
     "name": "#%%\n"
    }
   }
  },
  {
   "cell_type": "markdown",
   "source": [
    "### Wachter (gradient method)"
   ],
   "metadata": {
    "collapsed": false,
    "pycharm": {
     "name": "#%% md\n"
    }
   }
  },
  {
   "cell_type": "code",
   "execution_count": null,
   "outputs": [],
   "source": [
    "hyperparams = {\"loss_type\": \"BCE\", \"binary_cat_features\": False}\n",
    "recourse_method = recourse_catalog.Wachter(ml_model, hyperparams)\n",
    "df_cfs = recourse_method.get_counterfactuals(test_factual)\n",
    "\n",
    "print(df_cfs)"
   ],
   "metadata": {
    "collapsed": false,
    "pycharm": {
     "name": "#%%\n"
    }
   }
  },
  {
   "cell_type": "markdown",
   "source": [
    "### CCHVAE (manifold method)"
   ],
   "metadata": {
    "collapsed": false,
    "pycharm": {
     "name": "#%% md\n"
    }
   }
  },
  {
   "cell_type": "code",
   "execution_count": null,
   "outputs": [],
   "source": [
    "hyperparams = {\n",
    "    \"data_name\": dataset.name,\n",
    "    \"n_search_samples\": 100,\n",
    "    \"p_norm\": 1,\n",
    "    \"step\": 0.1,\n",
    "    \"max_iter\": 1000,\n",
    "    \"clamp\": True,\n",
    "    \"binary_cat_features\": False,\n",
    "    \"vae_params\": {\n",
    "        \"layers\": [len(ml_model.feature_input_order), 512, 256, 8],\n",
    "        \"train\": True,\n",
    "        \"lambda_reg\": 1e-6,\n",
    "        \"epochs\": 5,\n",
    "        \"lr\": 1e-3,\n",
    "        \"batch_size\": 32,\n",
    "    },\n",
    "}\n",
    "\n",
    "cchvae = recourse_catalog.CCHVAE(ml_model, hyperparams)\n",
    "df_cfs = cchvae.get_counterfactuals(test_factual)\n",
    "\n",
    "print(df_cfs)"
   ],
   "metadata": {
    "collapsed": false,
    "pycharm": {
     "name": "#%%\n"
    }
   }
  },
  {
   "cell_type": "markdown",
   "source": [
    "### FOCUS (tree method)\n",
    "\n",
    "For tree methods we need to use a tree model."
   ],
   "metadata": {
    "collapsed": false,
    "pycharm": {
     "name": "#%% md\n"
    }
   }
  },
  {
   "cell_type": "code",
   "execution_count": null,
   "outputs": [],
   "source": [
    "from carla.recourse_methods.catalog.focus.tree_model import ForestModel, XGBoostModel\n",
    "ml_model = XGBoostModel(dataset)\n",
    "\n",
    "factuals = predict_negative_instances(ml_model, dataset.df)\n",
    "test_factual = factuals.iloc[:5]"
   ],
   "metadata": {
    "collapsed": false,
    "pycharm": {
     "name": "#%%\n"
    }
   }
  },
  {
   "cell_type": "code",
   "execution_count": null,
   "outputs": [],
   "source": [
    "hyperparams = {\n",
    "    \"optimizer\": \"adam\",\n",
    "    \"lr\": 0.001,\n",
    "    \"n_class\": 2,\n",
    "    \"n_iter\": 1000,\n",
    "    \"sigma\": 1.0,\n",
    "    \"temperature\": 1.0,\n",
    "    \"distance_weight\": 0.01,\n",
    "    \"distance_func\": \"l1\",\n",
    "}\n",
    "\n",
    "focus = recourse_catalog.FOCUS(ml_model, dataset, hyperparams)\n",
    "df_cfs = focus.get_counterfactuals(test_factual)\n",
    "print(df_cfs)"
   ],
   "metadata": {
    "collapsed": false,
    "pycharm": {
     "name": "#%%\n"
    }
   }
  }
 ],
 "metadata": {
  "kernelspec": {
   "display_name": "Python 3",
   "language": "python",
   "name": "python3"
  },
  "language_info": {
   "codemirror_mode": {
    "name": "ipython",
    "version": 2
   },
   "file_extension": ".py",
   "mimetype": "text/x-python",
   "name": "python",
   "nbconvert_exporter": "python",
   "pygments_lexer": "ipython2",
   "version": "2.7.6"
  }
 },
 "nbformat": 4,
 "nbformat_minor": 0
}
