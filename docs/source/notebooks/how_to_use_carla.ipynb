{
 "cells": [
  {
   "cell_type": "markdown",
   "metadata": {
    "collapsed": true,
    "pycharm": {
     "name": "#%% md\n"
    }
   },
   "source": [
    "In the following notebook we will show how you can use the CARLA library."
   ]
  },
  {
   "cell_type": "markdown",
   "metadata": {
    "pycharm": {
     "name": "#%% md\n"
    }
   },
   "source": [
    "# How to use CARLA\n"
   ]
  },
  {
   "cell_type": "code",
   "execution_count": 1,
   "metadata": {
    "pycharm": {
     "name": "#%%\n"
    }
   },
   "outputs": [],
   "source": [
    "from IPython.display import display\n",
    "\n",
    "import warnings\n",
    "warnings.filterwarnings(\"ignore\")\n",
    "\n",
    "%load_ext autoreload\n",
    "%autoreload 2"
   ]
  },
  {
   "cell_type": "markdown",
   "metadata": {
    "pycharm": {
     "name": "#%% md\n"
    }
   },
   "source": [
    "## Data\n",
    "\n",
    "Before we can do anything we need some data. Using CARLA, you have several options to handle data.\n",
    "\n",
    "1. You could import one of the datasets from our [OnlineCatalog](https://carla-counterfactual-and-recourse-library.readthedocs.io/en/latest/data.html#module-data.catalog.online_catalog).\n",
    "2. However, you may want to use your own data instead. This can easily be done by using the [CsvCatalog](https://carla-counterfactual-and-recourse-library.readthedocs.io/en/latest/data.html#module-data.catalog.csv_catalog)."
   ]
  },
  {
   "cell_type": "markdown",
   "metadata": {},
   "source": [
    "### Using the <code>OnlineCatalog</code>"
   ]
  },
  {
   "cell_type": "markdown",
   "metadata": {},
   "source": [
    "Using the <code>OnlineCatalog</code> is very easy. Currently, we support four data sets: \"heloc\", \"adult\", \"compas\", and \"give_me_credit\". In the examples below, we will use the adult data set. Below, we demonstrate how you can use the <code>OnlineCatalog</code>."
   ]
  },
  {
   "cell_type": "code",
   "execution_count": 2,
   "metadata": {
    "scrolled": true
   },
   "outputs": [
    {
     "name": "stderr",
     "output_type": "stream",
     "text": [
      "Using TensorFlow backend.\n"
     ]
    },
    {
     "name": "stdout",
     "output_type": "stream",
     "text": [
      "[INFO] Using Python-MIP package version 1.12.0 [model.py <module>]\n",
      "[WARNING] From /home/johan/Dropbox/Documents/Master/HiWi/CARLA/carla/recourse_methods/catalog/focus/distances.py:2: The name tf.losses.Reduction is deprecated. Please use tf.compat.v1.losses.Reduction instead.\n",
      " [deprecation_wrapper.py __getattr__]\n"
     ]
    }
   ],
   "source": [
    "from carla.data.catalog import OnlineCatalog\n",
    "\n",
    "# load catalog dataset\n",
    "data_name = \"adult\"\n",
    "dataset = OnlineCatalog(data_name)"
   ]
  },
  {
   "cell_type": "markdown",
   "metadata": {},
   "source": [
    "Below, we take a look at how you can add your own data to CARLA."
   ]
  },
  {
   "cell_type": "markdown",
   "source": [],
   "metadata": {
    "collapsed": false
   }
  },
  {
   "cell_type": "markdown",
   "metadata": {},
   "source": [
    "### Using the <code>CsvCatalog</code>"
   ]
  },
  {
   "cell_type": "markdown",
   "metadata": {},
   "source": [
    "For the \"CsvCatalog\" there are 5 attributes. The file_path should be the path of the csv file you want to use. Then we have two different types of features, continous and categorical, of which some can be immutable. Finally, the target attribute is the column which contains the targets/labels. For the Adult Income data set, this will be \"Income\", i.e., whether an individual earned more or less than \\$50.000."
   ]
  },
  {
   "cell_type": "markdown",
   "metadata": {},
   "source": [
    "Note that when using the <code>CsvCatalog</code> the data should already be cleaned; e.g., your .csv file should not contain any NaNs. \n",
    "Moreover, also make sure that the categorical variables are binary encoded, i.e., $x_j \\in \\{0,1\\}$, if feature $j$ is a categorical variable (e.g., \"workclass_private\"). We are currently working on extensions to this."
   ]
  },
  {
   "cell_type": "code",
   "execution_count": 3,
   "metadata": {
    "pycharm": {
     "name": "#%%\n"
    }
   },
   "outputs": [
    {
     "data": {
      "text/plain": "        age    fnlwgt  education-num  capital-gain  capital-loss  ...  \\\n0  0.301370  0.044131       0.800000       0.02174           0.0  ...   \n1  0.452055  0.048052       0.800000       0.00000           0.0  ...   \n2  0.287671  0.137581       0.533333       0.00000           0.0  ...   \n3  0.493151  0.150486       0.400000       0.00000           0.0  ...   \n4  0.150685  0.220635       0.800000       0.00000           0.0  ...   \n\n   occupation_Other  race_White  relationship_Non-Husband  sex_Male  \\\n0               0.0         1.0                       1.0       1.0   \n1               0.0         1.0                       0.0       1.0   \n2               1.0         1.0                       1.0       1.0   \n3               1.0         0.0                       0.0       1.0   \n4               0.0         0.0                       1.0       0.0   \n\n   workclass_Private  \n0                0.0  \n1                0.0  \n2                1.0  \n3                1.0  \n4                1.0  \n\n[5 rows x 14 columns]",
      "text/html": "<div>\n<style scoped>\n    .dataframe tbody tr th:only-of-type {\n        vertical-align: middle;\n    }\n\n    .dataframe tbody tr th {\n        vertical-align: top;\n    }\n\n    .dataframe thead th {\n        text-align: right;\n    }\n</style>\n<table border=\"1\" class=\"dataframe\">\n  <thead>\n    <tr style=\"text-align: right;\">\n      <th></th>\n      <th>age</th>\n      <th>fnlwgt</th>\n      <th>education-num</th>\n      <th>capital-gain</th>\n      <th>capital-loss</th>\n      <th>...</th>\n      <th>occupation_Other</th>\n      <th>race_White</th>\n      <th>relationship_Non-Husband</th>\n      <th>sex_Male</th>\n      <th>workclass_Private</th>\n    </tr>\n  </thead>\n  <tbody>\n    <tr>\n      <th>0</th>\n      <td>0.301370</td>\n      <td>0.044131</td>\n      <td>0.800000</td>\n      <td>0.02174</td>\n      <td>0.0</td>\n      <td>...</td>\n      <td>0.0</td>\n      <td>1.0</td>\n      <td>1.0</td>\n      <td>1.0</td>\n      <td>0.0</td>\n    </tr>\n    <tr>\n      <th>1</th>\n      <td>0.452055</td>\n      <td>0.048052</td>\n      <td>0.800000</td>\n      <td>0.00000</td>\n      <td>0.0</td>\n      <td>...</td>\n      <td>0.0</td>\n      <td>1.0</td>\n      <td>0.0</td>\n      <td>1.0</td>\n      <td>0.0</td>\n    </tr>\n    <tr>\n      <th>2</th>\n      <td>0.287671</td>\n      <td>0.137581</td>\n      <td>0.533333</td>\n      <td>0.00000</td>\n      <td>0.0</td>\n      <td>...</td>\n      <td>1.0</td>\n      <td>1.0</td>\n      <td>1.0</td>\n      <td>1.0</td>\n      <td>1.0</td>\n    </tr>\n    <tr>\n      <th>3</th>\n      <td>0.493151</td>\n      <td>0.150486</td>\n      <td>0.400000</td>\n      <td>0.00000</td>\n      <td>0.0</td>\n      <td>...</td>\n      <td>1.0</td>\n      <td>0.0</td>\n      <td>0.0</td>\n      <td>1.0</td>\n      <td>1.0</td>\n    </tr>\n    <tr>\n      <th>4</th>\n      <td>0.150685</td>\n      <td>0.220635</td>\n      <td>0.800000</td>\n      <td>0.00000</td>\n      <td>0.0</td>\n      <td>...</td>\n      <td>0.0</td>\n      <td>0.0</td>\n      <td>1.0</td>\n      <td>0.0</td>\n      <td>1.0</td>\n    </tr>\n  </tbody>\n</table>\n<p>5 rows × 14 columns</p>\n</div>"
     },
     "metadata": {},
     "output_type": "display_data"
    }
   ],
   "source": [
    "from carla.data.catalog import CsvCatalog\n",
    "\n",
    "continuous = [\"age\", \"fnlwgt\", \"education-num\", \"capital-gain\", \"hours-per-week\", \"capital-loss\"]\n",
    "categorical = [\"marital-status\", \"native-country\", \"occupation\", \"race\", \"relationship\", \"sex\", \"workclass\"]\n",
    "immutable = [\"age\", \"sex\"]\n",
    "\n",
    "dataset = CsvCatalog(file_path=\"adult.csv\",\n",
    "                     continuous=continuous,\n",
    "                     categorical=categorical,\n",
    "                     immutables=immutable,\n",
    "                     target='income')\n",
    "\n",
    "display(dataset.df.head())"
   ]
  },
  {
   "cell_type": "markdown",
   "metadata": {
    "pycharm": {
     "name": "#%% md\n"
    }
   },
   "source": [
    "## ML Classifier\n",
    "\n",
    "Now that we have the data loaded we also need a classification model. Again, you have two options:\n",
    "\n",
    "1. You can easily define your own model. In our [model documentation](https://carla-counterfactual-and-recourse-library.readthedocs.io/en/latest/examples.html#black-box-model) we describe how you can do that.\n",
    "2. Here we will show how you can train one of our [catalog](https://carla-counterfactual-and-recourse-library.readthedocs.io/en/latest/mlmodel.html#module-models.catalog.catalog) models.\n",
    "Depending on your data and your use-case you might need to tweak the training hyperparameters.\n",
    "\n",
    "For example, for the **ANN** used here we need to define the following hyperparameters:\n",
    "- *learning rate*\n",
    "- *number of epochs*\n",
    "- *batch size*\n",
    "- *sizes of the hidden layers*.\n",
    "\n",
    "After defining the model using the <code>MLModelCatalog</code>, just call the *train* method with those parameters and you are good to go!"
   ]
  },
  {
   "cell_type": "code",
   "execution_count": 4,
   "metadata": {
    "pycharm": {
     "name": "#%%\n"
    }
   },
   "outputs": [],
   "source": [
    "from carla.models.catalog import MLModelCatalog"
   ]
  },
  {
   "cell_type": "code",
   "execution_count": 5,
   "metadata": {
    "pycharm": {
     "name": "#%%\n"
    }
   },
   "outputs": [
    {
     "name": "stdout",
     "output_type": "stream",
     "text": [
      "Loaded model from /home/johan/carla/models/custom/ann_layers_18_9_3.pt\n",
      "test accuracy for model: 0.835927260812582\n"
     ]
    }
   ],
   "source": [
    "training_params = {\"lr\": 0.002, \"epochs\": 10, \"batch_size\": 1024, \"hidden_size\": [18, 9, 3]}\n",
    "\n",
    "ml_model = MLModelCatalog(\n",
    "    dataset, \n",
    "    model_type=\"ann\", \n",
    "    load_online=False, \n",
    "    backend=\"pytorch\"\n",
    ")\n",
    "\n",
    "ml_model.train(\n",
    "    learning_rate=training_params[\"lr\"],\n",
    "    epochs=training_params[\"epochs\"],\n",
    "    batch_size=training_params[\"batch_size\"],\n",
    "    hidden_size=training_params[\"hidden_size\"]\n",
    ")"
   ]
  },
  {
   "cell_type": "markdown",
   "metadata": {
    "pycharm": {
     "name": "#%% md\n"
    }
   },
   "source": [
    "## Counterfactual Explanations and Algorithmic Recourse\n",
    "\n",
    "Now that we have both the data, and a model we can start using CARLA to generate counterfactuals. Again, you have two options:\n",
    "\n",
    "1. You can pick a [recourse method](https://carla-counterfactual-and-recourse-library.readthedocs.io/en/latest/recourse.html) from the catalog.\n",
    "2. Or you can implement one yourself using our [recourse interface](https://carla-counterfactual-and-recourse-library.readthedocs.io/en/latest/recourse.html#recourse-api). If you would like to add a new method to the library, just submit a pull-request. :)\n",
    "\n",
    "In the following example, we are getting negatively labeled samples for which we would like to find counterfactuals."
   ]
  },
  {
   "cell_type": "code",
   "execution_count": 6,
   "metadata": {
    "pycharm": {
     "name": "#%%\n"
    }
   },
   "outputs": [],
   "source": [
    "from carla.models.negative_instances import predict_negative_instances\n",
    "import carla.recourse_methods.catalog as recourse_catalog"
   ]
  },
  {
   "cell_type": "code",
   "execution_count": 7,
   "metadata": {
    "pycharm": {
     "name": "#%%\n"
    }
   },
   "outputs": [
    {
     "data": {
      "text/plain": "        age    fnlwgt  education-num  capital-gain  capital-loss  ...  \\\n0  0.301370  0.044131       0.800000       0.02174           0.0  ...   \n2  0.287671  0.137581       0.533333       0.00000           0.0  ...   \n3  0.493151  0.150486       0.400000       0.00000           0.0  ...   \n4  0.150685  0.220635       0.800000       0.00000           0.0  ...   \n6  0.438356  0.100061       0.266667       0.00000           0.0  ...   \n\n   occupation_Other  race_White  relationship_Non-Husband  sex_Male  \\\n0               0.0         1.0                       1.0       1.0   \n2               1.0         1.0                       1.0       1.0   \n3               1.0         0.0                       0.0       1.0   \n4               0.0         0.0                       1.0       0.0   \n6               1.0         0.0                       1.0       0.0   \n\n   workclass_Private  \n0                0.0  \n2                1.0  \n3                1.0  \n4                1.0  \n6                1.0  \n\n[5 rows x 14 columns]",
      "text/html": "<div>\n<style scoped>\n    .dataframe tbody tr th:only-of-type {\n        vertical-align: middle;\n    }\n\n    .dataframe tbody tr th {\n        vertical-align: top;\n    }\n\n    .dataframe thead th {\n        text-align: right;\n    }\n</style>\n<table border=\"1\" class=\"dataframe\">\n  <thead>\n    <tr style=\"text-align: right;\">\n      <th></th>\n      <th>age</th>\n      <th>fnlwgt</th>\n      <th>education-num</th>\n      <th>capital-gain</th>\n      <th>capital-loss</th>\n      <th>...</th>\n      <th>occupation_Other</th>\n      <th>race_White</th>\n      <th>relationship_Non-Husband</th>\n      <th>sex_Male</th>\n      <th>workclass_Private</th>\n    </tr>\n  </thead>\n  <tbody>\n    <tr>\n      <th>0</th>\n      <td>0.301370</td>\n      <td>0.044131</td>\n      <td>0.800000</td>\n      <td>0.02174</td>\n      <td>0.0</td>\n      <td>...</td>\n      <td>0.0</td>\n      <td>1.0</td>\n      <td>1.0</td>\n      <td>1.0</td>\n      <td>0.0</td>\n    </tr>\n    <tr>\n      <th>2</th>\n      <td>0.287671</td>\n      <td>0.137581</td>\n      <td>0.533333</td>\n      <td>0.00000</td>\n      <td>0.0</td>\n      <td>...</td>\n      <td>1.0</td>\n      <td>1.0</td>\n      <td>1.0</td>\n      <td>1.0</td>\n      <td>1.0</td>\n    </tr>\n    <tr>\n      <th>3</th>\n      <td>0.493151</td>\n      <td>0.150486</td>\n      <td>0.400000</td>\n      <td>0.00000</td>\n      <td>0.0</td>\n      <td>...</td>\n      <td>1.0</td>\n      <td>0.0</td>\n      <td>0.0</td>\n      <td>1.0</td>\n      <td>1.0</td>\n    </tr>\n    <tr>\n      <th>4</th>\n      <td>0.150685</td>\n      <td>0.220635</td>\n      <td>0.800000</td>\n      <td>0.00000</td>\n      <td>0.0</td>\n      <td>...</td>\n      <td>0.0</td>\n      <td>0.0</td>\n      <td>1.0</td>\n      <td>0.0</td>\n      <td>1.0</td>\n    </tr>\n    <tr>\n      <th>6</th>\n      <td>0.438356</td>\n      <td>0.100061</td>\n      <td>0.266667</td>\n      <td>0.00000</td>\n      <td>0.0</td>\n      <td>...</td>\n      <td>1.0</td>\n      <td>0.0</td>\n      <td>1.0</td>\n      <td>0.0</td>\n      <td>1.0</td>\n    </tr>\n  </tbody>\n</table>\n<p>5 rows × 14 columns</p>\n</div>"
     },
     "metadata": {},
     "output_type": "display_data"
    }
   ],
   "source": [
    "factuals = predict_negative_instances(ml_model, dataset.df)\n",
    "test_factual = factuals.iloc[:5]\n",
    "\n",
    "display(test_factual)"
   ]
  },
  {
   "cell_type": "markdown",
   "metadata": {
    "pycharm": {
     "name": "#%% md\n"
    }
   },
   "source": [
    "### Wachter et al (2018) (gradient method)"
   ]
  },
  {
   "cell_type": "markdown",
   "metadata": {},
   "source": [
    "The recourse objective function looks as follows:\n",
    "\\begin{align}\n",
    "\\delta_x^* & = argmin_{\\delta_x, x+ \\delta_x \\in \\mathcal{A}} \\, \\ell \\big(h(x + \\delta_x), 0.5)\\big) + \\lambda \\cdot \\, d(x + \\delta_x, x), %\\\\\n",
    "\\end{align}\n",
    "where $\\lambda \\geq 0$ is a trade-off parameter, $0.5$ is the probabilistic target, $\\mathcal{A}$ is the feasible set of actions, and $\\ell(\\cdot, \\cdot)$ is the binary-cross-entropy loss. The first term on the right-hand-side ensures that the model prediction corresponding to the counterfactual i.e., $h(x + \\delta_x )$ is close to the favorable outcome with classification prediction $1$. The second term encourages low-cost recourses; for example, Wachter et al (2018) propose $\\ell_1$ or $\\ell_2$ distances to ensure that the distance between the factual instance $x$ and the counterfactual $\\check{x} =  x + \\delta_x^*$ is small."
   ]
  },
  {
   "cell_type": "code",
   "execution_count": 8,
   "metadata": {
    "pycharm": {
     "name": "#%%\n"
    },
    "scrolled": true
   },
   "outputs": [
    {
     "name": "stdout",
     "output_type": "stream",
     "text": [
      "[INFO] Counterfactual Explanation Found [wachter.py wachter_recourse]\n",
      "[INFO] Counterfactual Explanation Found [wachter.py wachter_recourse]\n",
      "[INFO] Counterfactual Explanation Found [wachter.py wachter_recourse]\n",
      "[INFO] Counterfactual Explanation Found [wachter.py wachter_recourse]\n",
      "[INFO] Counterfactual Explanation Found [wachter.py wachter_recourse]\n"
     ]
    },
    {
     "data": {
      "text/plain": "        age  capital-gain  capital-loss  education-num    fnlwgt  ...  \\\n0  0.350025      0.070708      0.048941       0.849036  0.000182  ...   \n2  0.414486      0.125881      0.127741       0.658535  0.033042  ...   \n3  0.550512      0.058995      0.058867       0.459005  0.210247  ...   \n4  0.257907      0.106133      0.107396       0.905325  0.150003  ...   \n6  0.605591      0.167044      0.167439       0.433625 -0.056802  ...   \n\n   race_White  relationship_Non-Husband  sex_Male  workclass_Private  income  \n0         1.0                       1.0       0.0           0.042775     1.0  \n2         0.0                       1.0       0.0           0.873237     1.0  \n3         0.0                       0.0       1.0           0.950902     1.0  \n4         0.0                       1.0       0.0           0.894212     1.0  \n6         0.0                       1.0       0.0           0.834089     1.0  \n\n[5 rows x 14 columns]",
      "text/html": "<div>\n<style scoped>\n    .dataframe tbody tr th:only-of-type {\n        vertical-align: middle;\n    }\n\n    .dataframe tbody tr th {\n        vertical-align: top;\n    }\n\n    .dataframe thead th {\n        text-align: right;\n    }\n</style>\n<table border=\"1\" class=\"dataframe\">\n  <thead>\n    <tr style=\"text-align: right;\">\n      <th></th>\n      <th>age</th>\n      <th>capital-gain</th>\n      <th>capital-loss</th>\n      <th>education-num</th>\n      <th>fnlwgt</th>\n      <th>...</th>\n      <th>race_White</th>\n      <th>relationship_Non-Husband</th>\n      <th>sex_Male</th>\n      <th>workclass_Private</th>\n      <th>income</th>\n    </tr>\n  </thead>\n  <tbody>\n    <tr>\n      <th>0</th>\n      <td>0.350025</td>\n      <td>0.070708</td>\n      <td>0.048941</td>\n      <td>0.849036</td>\n      <td>0.000182</td>\n      <td>...</td>\n      <td>1.0</td>\n      <td>1.0</td>\n      <td>0.0</td>\n      <td>0.042775</td>\n      <td>1.0</td>\n    </tr>\n    <tr>\n      <th>2</th>\n      <td>0.414486</td>\n      <td>0.125881</td>\n      <td>0.127741</td>\n      <td>0.658535</td>\n      <td>0.033042</td>\n      <td>...</td>\n      <td>0.0</td>\n      <td>1.0</td>\n      <td>0.0</td>\n      <td>0.873237</td>\n      <td>1.0</td>\n    </tr>\n    <tr>\n      <th>3</th>\n      <td>0.550512</td>\n      <td>0.058995</td>\n      <td>0.058867</td>\n      <td>0.459005</td>\n      <td>0.210247</td>\n      <td>...</td>\n      <td>0.0</td>\n      <td>0.0</td>\n      <td>1.0</td>\n      <td>0.950902</td>\n      <td>1.0</td>\n    </tr>\n    <tr>\n      <th>4</th>\n      <td>0.257907</td>\n      <td>0.106133</td>\n      <td>0.107396</td>\n      <td>0.905325</td>\n      <td>0.150003</td>\n      <td>...</td>\n      <td>0.0</td>\n      <td>1.0</td>\n      <td>0.0</td>\n      <td>0.894212</td>\n      <td>1.0</td>\n    </tr>\n    <tr>\n      <th>6</th>\n      <td>0.605591</td>\n      <td>0.167044</td>\n      <td>0.167439</td>\n      <td>0.433625</td>\n      <td>-0.056802</td>\n      <td>...</td>\n      <td>0.0</td>\n      <td>1.0</td>\n      <td>0.0</td>\n      <td>0.834089</td>\n      <td>1.0</td>\n    </tr>\n  </tbody>\n</table>\n<p>5 rows × 14 columns</p>\n</div>"
     },
     "metadata": {},
     "output_type": "display_data"
    }
   ],
   "source": [
    "hyperparams = {\"loss_type\": \"BCE\", \"binary_cat_features\": True}\n",
    "recourse_method = recourse_catalog.Wachter(ml_model, hyperparams)\n",
    "df_cfs = recourse_method.get_counterfactuals(test_factual)\n",
    "\n",
    "display(df_cfs)"
   ]
  },
  {
   "cell_type": "markdown",
   "metadata": {
    "pycharm": {
     "name": "#%% md\n"
    }
   },
   "source": [
    "### CCHVAE by Pawelczyk et al (2020) (manifold method)"
   ]
  },
  {
   "cell_type": "markdown",
   "metadata": {},
   "source": [
    "Let $g: \\mathcal{Z} \\to \\mathcal{X}$ be the decoder of a generative model (e.g., VAE). Let $e: \\mathcal{X} \\to \\mathcal{Z}$ be the correpsonding encoder. We then encode the factual input x, for which we wish to find a counterfactual explanation, as follows:  $e(x)=z$, and conduct the search in the latent space.\n",
    "Manifold-based methods solve an objective function that looks as follows:\n",
    "\\begin{align}\n",
    "\\delta_z^* & = argmin_{\\delta_z, g(z + \\delta_z) \\in \\mathcal{A}} \\, \\ell \\big(h(g(z + \\delta_z), 0.5)\\big) + \\cdot \\, d(z + \\delta_z, z), %\\\\\n",
    "\\label{eq:wachter}\n",
    "\\end{align}\n",
    "where $\\lambda \\geq 0$ is a trade-off parameter, $0.5$ is the probabilistic target,\n",
    "and $\\ell(\\cdot, \\cdot)$ is the binary-cross-entropy loss, and  $\\mathcal{A}$ is the feasible set of actions. The first term on the right-hand-side ensures that the model prediction corresponding to the counterfactual i.e., $h(g(z + \\delta_z))$ is close to the favorable outcome with classification label $1$. The second term encourages low-cost recourses;\n",
    "\n",
    "For example, Pawelczyk et al (2020) use random search in the latent space to approximate the above objective function, while Joshi et al (2019) use a gradient-based algorithm on a variant of the above objective function. We refer to the respective papers for more details"
   ]
  },
  {
   "cell_type": "code",
   "execution_count": 9,
   "metadata": {
    "pycharm": {
     "name": "#%%\n"
    }
   },
   "outputs": [
    {
     "name": "stdout",
     "output_type": "stream",
     "text": [
      "[INFO] Start training of Variational Autoencoder... [models.py fit]\n",
      "[INFO] [Epoch: 0/5] [objective: 0.381] [models.py fit]\n",
      "[INFO] [ELBO train: 0.38] [models.py fit]\n",
      "[INFO] [ELBO train: 0.14] [models.py fit]\n",
      "[INFO] [ELBO train: 0.12] [models.py fit]\n",
      "[INFO] [ELBO train: 0.12] [models.py fit]\n",
      "[INFO] [ELBO train: 0.12] [models.py fit]\n",
      "[INFO] ... finished training of Variational Autoencoder. [models.py fit]\n"
     ]
    },
    {
     "data": {
      "text/plain": "        age  capital-gain  capital-loss  education-num   fnlwgt  ...  \\\n0  0.296008      0.036202      0.039718       0.601063  0.12027  ...   \n2  0.296011      0.036202      0.039718       0.601062  0.12027  ...   \n3  0.296006      0.036202      0.039718       0.601062  0.12027  ...   \n4  0.296005      0.036202      0.039718       0.601062  0.12027  ...   \n6  0.296008      0.036203      0.039718       0.601062  0.12027  ...   \n\n   race_White  relationship_Non-Husband  sex_Male  workclass_Private  income  \n0         1.0                       0.0       1.0           0.737570     1.0  \n2         1.0                       0.0       1.0           0.737570     1.0  \n3         1.0                       0.0       1.0           0.737569     1.0  \n4         1.0                       0.0       1.0           0.737569     1.0  \n6         1.0                       0.0       1.0           0.737569     1.0  \n\n[5 rows x 14 columns]",
      "text/html": "<div>\n<style scoped>\n    .dataframe tbody tr th:only-of-type {\n        vertical-align: middle;\n    }\n\n    .dataframe tbody tr th {\n        vertical-align: top;\n    }\n\n    .dataframe thead th {\n        text-align: right;\n    }\n</style>\n<table border=\"1\" class=\"dataframe\">\n  <thead>\n    <tr style=\"text-align: right;\">\n      <th></th>\n      <th>age</th>\n      <th>capital-gain</th>\n      <th>capital-loss</th>\n      <th>education-num</th>\n      <th>fnlwgt</th>\n      <th>...</th>\n      <th>race_White</th>\n      <th>relationship_Non-Husband</th>\n      <th>sex_Male</th>\n      <th>workclass_Private</th>\n      <th>income</th>\n    </tr>\n  </thead>\n  <tbody>\n    <tr>\n      <th>0</th>\n      <td>0.296008</td>\n      <td>0.036202</td>\n      <td>0.039718</td>\n      <td>0.601063</td>\n      <td>0.12027</td>\n      <td>...</td>\n      <td>1.0</td>\n      <td>0.0</td>\n      <td>1.0</td>\n      <td>0.737570</td>\n      <td>1.0</td>\n    </tr>\n    <tr>\n      <th>2</th>\n      <td>0.296011</td>\n      <td>0.036202</td>\n      <td>0.039718</td>\n      <td>0.601062</td>\n      <td>0.12027</td>\n      <td>...</td>\n      <td>1.0</td>\n      <td>0.0</td>\n      <td>1.0</td>\n      <td>0.737570</td>\n      <td>1.0</td>\n    </tr>\n    <tr>\n      <th>3</th>\n      <td>0.296006</td>\n      <td>0.036202</td>\n      <td>0.039718</td>\n      <td>0.601062</td>\n      <td>0.12027</td>\n      <td>...</td>\n      <td>1.0</td>\n      <td>0.0</td>\n      <td>1.0</td>\n      <td>0.737569</td>\n      <td>1.0</td>\n    </tr>\n    <tr>\n      <th>4</th>\n      <td>0.296005</td>\n      <td>0.036202</td>\n      <td>0.039718</td>\n      <td>0.601062</td>\n      <td>0.12027</td>\n      <td>...</td>\n      <td>1.0</td>\n      <td>0.0</td>\n      <td>1.0</td>\n      <td>0.737569</td>\n      <td>1.0</td>\n    </tr>\n    <tr>\n      <th>6</th>\n      <td>0.296008</td>\n      <td>0.036203</td>\n      <td>0.039718</td>\n      <td>0.601062</td>\n      <td>0.12027</td>\n      <td>...</td>\n      <td>1.0</td>\n      <td>0.0</td>\n      <td>1.0</td>\n      <td>0.737569</td>\n      <td>1.0</td>\n    </tr>\n  </tbody>\n</table>\n<p>5 rows × 14 columns</p>\n</div>"
     },
     "metadata": {},
     "output_type": "display_data"
    }
   ],
   "source": [
    "hyperparams = {\n",
    "    \"data_name\": dataset.name,\n",
    "    \"n_search_samples\": 100,\n",
    "    \"p_norm\": 1,\n",
    "    \"step\": 0.1,\n",
    "    \"max_iter\": 1000,\n",
    "    \"clamp\": True,\n",
    "    \"binary_cat_features\": True,\n",
    "    \"vae_params\": {\n",
    "        \"layers\": [len(ml_model.feature_input_order), 512, 256, 8],\n",
    "        \"train\": True,\n",
    "        \"lambda_reg\": 1e-6,\n",
    "        \"epochs\": 5,\n",
    "        \"lr\": 1e-3,\n",
    "        \"batch_size\": 32,\n",
    "    },\n",
    "}\n",
    "\n",
    "cchvae = recourse_catalog.CCHVAE(ml_model, hyperparams)\n",
    "df_cfs = cchvae.get_counterfactuals(test_factual)\n",
    "\n",
    "display(df_cfs)"
   ]
  },
  {
   "cell_type": "markdown",
   "metadata": {
    "pycharm": {
     "name": "#%% md\n"
    }
   },
   "source": [
    "### FOCUS by Lucic et al (2021) (tree method)\n",
    "\n",
    "Our library also supports sklearn and xgboost tree-based classifiers such as *Random Forests*, *Decision Trees* or *Gradient Boosted Decision Trees*.\n",
    "Those classifiers are needed for methods, which explicitly require the use of tree models (e.g., FeatureTweak and FOCUS).\n",
    "\n",
    "A lot of recourse methods assume that the prediction model is differentiable. These methods do therefore not work on tree-based models. The FOCUS method avoids this problem by using a differentiable approximation to the original tree model. For a normal decision tree $t$ a node $j$ is activated if its parent node $p_j$ is activated and feature $x_{f_j}$ is above the threshold $\\theta_j$.\n",
    "\n",
    "$$\n",
    "t_j(x) = \\begin{cases}\n",
    "        1                                           & \\text{ if j is the root,} \\\\\n",
    "        t_{p_j}(x) \\cdot 𝟙 [x_{f_j} > \\theta_j]         & \\text{ if j is a left child,} \\\\\n",
    "        t_{p_j}(x) \\cdot 𝟙 [x_{f_j} \\leq \\theta_j]      & \\text{ if j is a right child}\n",
    "    \\end{cases}\n",
    "$$\n",
    "\n",
    "This can be replaced by a differentiable approximation, where $\\text{sig}$ is the sigmoid function.\n",
    "\n",
    "$$\n",
    "\\tilde{t}_j(x) = \\begin{cases}\n",
    "        1                                                       & \\text{ if j is the root,} \\\\\n",
    "        \\tilde{t}_{p_j}(x) \\cdot \\text{sig}(\\theta_j - x_{f_j})     & \\text{ if j is a left child,} \\\\\n",
    "        \\tilde{t}_{p_j}(x) \\cdot \\text{sig}(x_{f_j} - \\theta_j)      & \\text{ if j is a right child}\n",
    "    \\end{cases}\n",
    "$$\n",
    "\n",
    "Using that an approximation to the original tree model can be made, with the same structure and thresholds. However, now the model is differentiable, and we can do recourse as e.g. shown in the Wachter method.\n",
    "\n",
    "Note that in the original work the authors removed the categorical features from the data, and we do the same."
   ]
  },
  {
   "cell_type": "markdown",
   "source": [
    "You can use one of our catalog forest models if you want. However, we will take this as an opportunity to show how to easily implement your own model."
   ],
   "metadata": {
    "collapsed": false,
    "pycharm": {
     "name": "#%% md\n"
    }
   }
  },
  {
   "cell_type": "code",
   "execution_count": 10,
   "metadata": {
    "pycharm": {
     "name": "#%%\n"
    }
   },
   "outputs": [
    {
     "name": "stdout",
     "output_type": "stream",
     "text": [
      "balance on test set 0.2386140235910878, balance on test set 0.24148099606815204\n",
      "model fitted with training score 0.7936052861511577 and test score 0.789072739187418\n"
     ]
    },
    {
     "data": {
      "text/plain": "        age    fnlwgt  education-num  capital-gain  capital-loss  ...  \\\n0  0.301370  0.044131       0.800000       0.02174           0.0  ...   \n1  0.452055  0.048052       0.800000       0.00000           0.0  ...   \n2  0.287671  0.137581       0.533333       0.00000           0.0  ...   \n3  0.493151  0.150486       0.400000       0.00000           0.0  ...   \n4  0.150685  0.220635       0.800000       0.00000           0.0  ...   \n\n   occupation_Other  race_White  relationship_Non-Husband  sex_Male  \\\n0               0.0         1.0                       1.0       1.0   \n1               0.0         1.0                       0.0       1.0   \n2               1.0         1.0                       1.0       1.0   \n3               1.0         0.0                       0.0       1.0   \n4               0.0         0.0                       1.0       0.0   \n\n   workclass_Private  \n0                0.0  \n1                0.0  \n2                1.0  \n3                1.0  \n4                1.0  \n\n[5 rows x 14 columns]",
      "text/html": "<div>\n<style scoped>\n    .dataframe tbody tr th:only-of-type {\n        vertical-align: middle;\n    }\n\n    .dataframe tbody tr th {\n        vertical-align: top;\n    }\n\n    .dataframe thead th {\n        text-align: right;\n    }\n</style>\n<table border=\"1\" class=\"dataframe\">\n  <thead>\n    <tr style=\"text-align: right;\">\n      <th></th>\n      <th>age</th>\n      <th>fnlwgt</th>\n      <th>education-num</th>\n      <th>capital-gain</th>\n      <th>capital-loss</th>\n      <th>...</th>\n      <th>occupation_Other</th>\n      <th>race_White</th>\n      <th>relationship_Non-Husband</th>\n      <th>sex_Male</th>\n      <th>workclass_Private</th>\n    </tr>\n  </thead>\n  <tbody>\n    <tr>\n      <th>0</th>\n      <td>0.301370</td>\n      <td>0.044131</td>\n      <td>0.800000</td>\n      <td>0.02174</td>\n      <td>0.0</td>\n      <td>...</td>\n      <td>0.0</td>\n      <td>1.0</td>\n      <td>1.0</td>\n      <td>1.0</td>\n      <td>0.0</td>\n    </tr>\n    <tr>\n      <th>1</th>\n      <td>0.452055</td>\n      <td>0.048052</td>\n      <td>0.800000</td>\n      <td>0.00000</td>\n      <td>0.0</td>\n      <td>...</td>\n      <td>0.0</td>\n      <td>1.0</td>\n      <td>0.0</td>\n      <td>1.0</td>\n      <td>0.0</td>\n    </tr>\n    <tr>\n      <th>2</th>\n      <td>0.287671</td>\n      <td>0.137581</td>\n      <td>0.533333</td>\n      <td>0.00000</td>\n      <td>0.0</td>\n      <td>...</td>\n      <td>1.0</td>\n      <td>1.0</td>\n      <td>1.0</td>\n      <td>1.0</td>\n      <td>1.0</td>\n    </tr>\n    <tr>\n      <th>3</th>\n      <td>0.493151</td>\n      <td>0.150486</td>\n      <td>0.400000</td>\n      <td>0.00000</td>\n      <td>0.0</td>\n      <td>...</td>\n      <td>1.0</td>\n      <td>0.0</td>\n      <td>0.0</td>\n      <td>1.0</td>\n      <td>1.0</td>\n    </tr>\n    <tr>\n      <th>4</th>\n      <td>0.150685</td>\n      <td>0.220635</td>\n      <td>0.800000</td>\n      <td>0.00000</td>\n      <td>0.0</td>\n      <td>...</td>\n      <td>0.0</td>\n      <td>0.0</td>\n      <td>1.0</td>\n      <td>0.0</td>\n      <td>1.0</td>\n    </tr>\n  </tbody>\n</table>\n<p>5 rows × 14 columns</p>\n</div>"
     },
     "metadata": {},
     "output_type": "display_data"
    }
   ],
   "source": [
    "ml_model = MLModelCatalog(dataset, \"forest\", backend=\"sklearn\", load_online=False)\n",
    "ml_model.train(max_depth=2, n_estimators=5, force_train=True)\n",
    "\n",
    "factuals = predict_negative_instances(ml_model, dataset.df)\n",
    "test_factual = factuals.iloc[:5]\n",
    "\n",
    "display(test_factual)"
   ]
  },
  {
   "cell_type": "markdown",
   "source": [
    "You just need to import our MLModel api, train a model, and define some methods. These are the methods shown in our Black-Box-Model [example](https://carla-counterfactual-and-recourse-library.readthedocs.io/en/latest/examples.html#black-box-model)."
   ],
   "metadata": {
    "collapsed": false,
    "pycharm": {
     "name": "#%% md\n"
    }
   }
  },
  {
   "cell_type": "code",
   "execution_count": 11,
   "outputs": [],
   "source": [
    "from carla import MLModel\n",
    "import xgboost"
   ],
   "metadata": {
    "collapsed": false,
    "pycharm": {
     "name": "#%%\n"
    }
   }
  },
  {
   "cell_type": "code",
   "execution_count": 12,
   "outputs": [],
   "source": [
    "class XGBoostModel(MLModel):\n",
    "    \"\"\"The default way of implementing XGBoost\n",
    "    https://xgboost.readthedocs.io/en/latest/python/python_intro.html\"\"\"\n",
    "\n",
    "    def __init__(self, data):\n",
    "        super().__init__(data)\n",
    "\n",
    "        # get preprocessed data\n",
    "        df_train = self.data.df_train\n",
    "        df_test = self.data.df_test\n",
    "\n",
    "        x_train = df_train[self.data.continuous]\n",
    "        y_train = df_train[self.data.target]\n",
    "        x_test = df_test[self.data.continuous]\n",
    "        y_test = df_test[self.data.target]\n",
    "\n",
    "        self._feature_input_order = self.data.continuous\n",
    "\n",
    "        param = {\n",
    "            \"max_depth\": 2,  # determines how deep the tree can go\n",
    "            \"objective\": \"binary:logistic\",  # determines the loss function\n",
    "            \"n_estimators\": 5,\n",
    "        }\n",
    "        self._mymodel = xgboost.XGBClassifier(**param)\n",
    "        self._mymodel.fit(\n",
    "                x_train,\n",
    "                y_train,\n",
    "                eval_set=[(x_train, y_train), (x_test, y_test)],\n",
    "                eval_metric=\"logloss\",\n",
    "                verbose=True,\n",
    "            )\n",
    "\n",
    "    @property\n",
    "    def feature_input_order(self):\n",
    "        # List of the feature order the ml model was trained on\n",
    "        return self._feature_input_order\n",
    "\n",
    "    @property\n",
    "    def backend(self):\n",
    "        # The ML framework the model was trained on\n",
    "        return \"xgboost\"\n",
    "\n",
    "    @property\n",
    "    def raw_model(self):\n",
    "        # The black-box model object\n",
    "        return self._mymodel\n",
    "\n",
    "    @property\n",
    "    def tree_iterator(self):\n",
    "        # make a copy of the trees, else feature names are not saved\n",
    "        booster_it = [booster for booster in self.raw_model.get_booster()]\n",
    "        # set the feature names\n",
    "        for booster in booster_it:\n",
    "            booster.feature_names = self.feature_input_order\n",
    "        return booster_it\n",
    "\n",
    "    # The predict function outputs\n",
    "    # the continuous prediction of the model\n",
    "    def predict(self, x):\n",
    "        return self._mymodel.predict(self.get_ordered_features(x))\n",
    "\n",
    "    # The predict_proba method outputs\n",
    "    # the prediction as class probabilities\n",
    "    def predict_proba(self, x):\n",
    "        return self._mymodel.predict_proba(self.get_ordered_features(x))"
   ],
   "metadata": {
    "collapsed": false,
    "pycharm": {
     "name": "#%%\n"
    }
   }
  },
  {
   "cell_type": "code",
   "execution_count": 13,
   "outputs": [
    {
     "name": "stdout",
     "output_type": "stream",
     "text": [
      "[0]\tvalidation_0-logloss:0.58264\tvalidation_1-logloss:0.58524\n",
      "[1]\tvalidation_0-logloss:0.52164\tvalidation_1-logloss:0.52638\n",
      "[2]\tvalidation_0-logloss:0.48261\tvalidation_1-logloss:0.48856\n",
      "[3]\tvalidation_0-logloss:0.45739\tvalidation_1-logloss:0.46417\n",
      "[4]\tvalidation_0-logloss:0.43813\tvalidation_1-logloss:0.44575\n"
     ]
    },
    {
     "data": {
      "text/plain": "        age    fnlwgt  education-num  capital-gain  capital-loss  ...  \\\n0  0.301370  0.044131       0.800000       0.02174           0.0  ...   \n1  0.452055  0.048052       0.800000       0.00000           0.0  ...   \n2  0.287671  0.137581       0.533333       0.00000           0.0  ...   \n3  0.493151  0.150486       0.400000       0.00000           0.0  ...   \n4  0.150685  0.220635       0.800000       0.00000           0.0  ...   \n\n   occupation_Other  race_White  relationship_Non-Husband  sex_Male  \\\n0               0.0         1.0                       1.0       1.0   \n1               0.0         1.0                       0.0       1.0   \n2               1.0         1.0                       1.0       1.0   \n3               1.0         0.0                       0.0       1.0   \n4               0.0         0.0                       1.0       0.0   \n\n   workclass_Private  \n0                0.0  \n1                0.0  \n2                1.0  \n3                1.0  \n4                1.0  \n\n[5 rows x 14 columns]",
      "text/html": "<div>\n<style scoped>\n    .dataframe tbody tr th:only-of-type {\n        vertical-align: middle;\n    }\n\n    .dataframe tbody tr th {\n        vertical-align: top;\n    }\n\n    .dataframe thead th {\n        text-align: right;\n    }\n</style>\n<table border=\"1\" class=\"dataframe\">\n  <thead>\n    <tr style=\"text-align: right;\">\n      <th></th>\n      <th>age</th>\n      <th>fnlwgt</th>\n      <th>education-num</th>\n      <th>capital-gain</th>\n      <th>capital-loss</th>\n      <th>...</th>\n      <th>occupation_Other</th>\n      <th>race_White</th>\n      <th>relationship_Non-Husband</th>\n      <th>sex_Male</th>\n      <th>workclass_Private</th>\n    </tr>\n  </thead>\n  <tbody>\n    <tr>\n      <th>0</th>\n      <td>0.301370</td>\n      <td>0.044131</td>\n      <td>0.800000</td>\n      <td>0.02174</td>\n      <td>0.0</td>\n      <td>...</td>\n      <td>0.0</td>\n      <td>1.0</td>\n      <td>1.0</td>\n      <td>1.0</td>\n      <td>0.0</td>\n    </tr>\n    <tr>\n      <th>1</th>\n      <td>0.452055</td>\n      <td>0.048052</td>\n      <td>0.800000</td>\n      <td>0.00000</td>\n      <td>0.0</td>\n      <td>...</td>\n      <td>0.0</td>\n      <td>1.0</td>\n      <td>0.0</td>\n      <td>1.0</td>\n      <td>0.0</td>\n    </tr>\n    <tr>\n      <th>2</th>\n      <td>0.287671</td>\n      <td>0.137581</td>\n      <td>0.533333</td>\n      <td>0.00000</td>\n      <td>0.0</td>\n      <td>...</td>\n      <td>1.0</td>\n      <td>1.0</td>\n      <td>1.0</td>\n      <td>1.0</td>\n      <td>1.0</td>\n    </tr>\n    <tr>\n      <th>3</th>\n      <td>0.493151</td>\n      <td>0.150486</td>\n      <td>0.400000</td>\n      <td>0.00000</td>\n      <td>0.0</td>\n      <td>...</td>\n      <td>1.0</td>\n      <td>0.0</td>\n      <td>0.0</td>\n      <td>1.0</td>\n      <td>1.0</td>\n    </tr>\n    <tr>\n      <th>4</th>\n      <td>0.150685</td>\n      <td>0.220635</td>\n      <td>0.800000</td>\n      <td>0.00000</td>\n      <td>0.0</td>\n      <td>...</td>\n      <td>0.0</td>\n      <td>0.0</td>\n      <td>1.0</td>\n      <td>0.0</td>\n      <td>1.0</td>\n    </tr>\n  </tbody>\n</table>\n<p>5 rows × 14 columns</p>\n</div>"
     },
     "metadata": {},
     "output_type": "display_data"
    }
   ],
   "source": [
    "ml_model = XGBoostModel(dataset)\n",
    "\n",
    "factuals = predict_negative_instances(ml_model, dataset.df)\n",
    "test_factual = factuals.iloc[:5]\n",
    "\n",
    "display(test_factual)"
   ],
   "metadata": {
    "collapsed": false,
    "pycharm": {
     "name": "#%%\n"
    }
   }
  },
  {
   "cell_type": "markdown",
   "metadata": {},
   "source": [
    "Below we start generating counterfactuals using FOCUS."
   ]
  },
  {
   "cell_type": "code",
   "execution_count": 14,
   "metadata": {
    "pycharm": {
     "name": "#%%\n"
    }
   },
   "outputs": [
    {
     "name": "stdout",
     "output_type": "stream",
     "text": [
      "[WARNING] From /home/johan/Dropbox/Documents/Master/HiWi/CARLA/carla/recourse_methods/catalog/focus/model.py:112: The name tf.train.AdamOptimizer is deprecated. Please use tf.compat.v1.train.AdamOptimizer instead.\n",
      " [deprecation_wrapper.py __getattr__]\n",
      "[WARNING] From /home/johan/Dropbox/Documents/Master/HiWi/CARLA/carla/recourse_methods/catalog/focus/model.py:221: The name tf.Session is deprecated. Please use tf.compat.v1.Session instead.\n",
      " [deprecation_wrapper.py __getattr__]\n",
      "[WARNING] From /home/johan/Dropbox/Documents/Master/HiWi/CARLA/env/lib/python3.7/site-packages/tensorflow/python/ops/array_ops.py:1354: add_dispatch_support.<locals>.wrapper (from tensorflow.python.ops.array_ops) is deprecated and will be removed in a future version.\n",
      "Instructions for updating:\n",
      "Use tf.where in 2.0, which has the same broadcast rule as np.where [deprecation.py new_func]\n",
      "[WARNING] Calling GradientTape.gradient on a persistent tape inside its context is significantly less efficient than calling it outside the context (it causes the gradient ops to be recorded on the tape, leading to increased CPU and memory usage). Only call GradientTape.gradient inside the context if you actually want to trace the gradient in order to compute higher order derivatives. [backprop.py gradient]\n",
      "[WARNING] From /home/johan/Dropbox/Documents/Master/HiWi/CARLA/carla/recourse_methods/catalog/focus/model.py:185: The name tf.train.get_or_create_global_step is deprecated. Please use tf.compat.v1.train.get_or_create_global_step instead.\n",
      " [deprecation_wrapper.py __getattr__]\n",
      "[WARNING] From /home/johan/Dropbox/Documents/Master/HiWi/CARLA/carla/recourse_methods/catalog/focus/model.py:188: The name tf.assign is deprecated. Please use tf.compat.v1.assign instead.\n",
      " [deprecation_wrapper.py __getattr__]\n"
     ]
    },
    {
     "data": {
      "text/plain": "        age    fnlwgt  education-num  capital-gain  hours-per-week  \\\n0  0.301357  0.044131       0.800021      0.051210        0.397959   \n1  0.452098  0.048052       0.799944      0.051204        0.122461   \n2  0.287687  0.137581       0.533310      0.051247        0.397927   \n3  0.493190  0.150486       0.400157      0.051202        0.397967   \n4  0.150625  0.220635       0.799999      0.070577        0.397936   \n\n   capital-loss  \n0           0.0  \n1           0.0  \n2           0.0  \n3           0.0  \n4           0.0  ",
      "text/html": "<div>\n<style scoped>\n    .dataframe tbody tr th:only-of-type {\n        vertical-align: middle;\n    }\n\n    .dataframe tbody tr th {\n        vertical-align: top;\n    }\n\n    .dataframe thead th {\n        text-align: right;\n    }\n</style>\n<table border=\"1\" class=\"dataframe\">\n  <thead>\n    <tr style=\"text-align: right;\">\n      <th></th>\n      <th>age</th>\n      <th>fnlwgt</th>\n      <th>education-num</th>\n      <th>capital-gain</th>\n      <th>hours-per-week</th>\n      <th>capital-loss</th>\n    </tr>\n  </thead>\n  <tbody>\n    <tr>\n      <th>0</th>\n      <td>0.301357</td>\n      <td>0.044131</td>\n      <td>0.800021</td>\n      <td>0.051210</td>\n      <td>0.397959</td>\n      <td>0.0</td>\n    </tr>\n    <tr>\n      <th>1</th>\n      <td>0.452098</td>\n      <td>0.048052</td>\n      <td>0.799944</td>\n      <td>0.051204</td>\n      <td>0.122461</td>\n      <td>0.0</td>\n    </tr>\n    <tr>\n      <th>2</th>\n      <td>0.287687</td>\n      <td>0.137581</td>\n      <td>0.533310</td>\n      <td>0.051247</td>\n      <td>0.397927</td>\n      <td>0.0</td>\n    </tr>\n    <tr>\n      <th>3</th>\n      <td>0.493190</td>\n      <td>0.150486</td>\n      <td>0.400157</td>\n      <td>0.051202</td>\n      <td>0.397967</td>\n      <td>0.0</td>\n    </tr>\n    <tr>\n      <th>4</th>\n      <td>0.150625</td>\n      <td>0.220635</td>\n      <td>0.799999</td>\n      <td>0.070577</td>\n      <td>0.397936</td>\n      <td>0.0</td>\n    </tr>\n  </tbody>\n</table>\n</div>"
     },
     "metadata": {},
     "output_type": "display_data"
    }
   ],
   "source": [
    "hyperparams = {\n",
    "    \"optimizer\": \"adam\",\n",
    "    \"lr\": 0.001,\n",
    "    \"n_class\": 2,\n",
    "    \"n_iter\": 1000,\n",
    "    \"sigma\": 1.0,\n",
    "    \"temperature\": 1.0,\n",
    "    \"distance_weight\": 0.01,\n",
    "    \"distance_func\": \"l1\",\n",
    "}\n",
    "\n",
    "focus = recourse_catalog.FOCUS(ml_model, hyperparams)\n",
    "df_cfs = focus.get_counterfactuals(test_factual)\n",
    "display(df_cfs)"
   ]
  },
  {
   "cell_type": "code",
   "execution_count": 14,
   "metadata": {
    "pycharm": {
     "name": "#%%\n"
    }
   },
   "outputs": [],
   "source": []
  }
 ],
 "metadata": {
  "kernelspec": {
   "display_name": "Python 3",
   "language": "python",
   "name": "python3"
  },
  "language_info": {
   "codemirror_mode": {
    "name": "ipython",
    "version": 3
   },
   "file_extension": ".py",
   "mimetype": "text/x-python",
   "name": "python",
   "nbconvert_exporter": "python",
   "pygments_lexer": "ipython3",
   "version": "3.6.8"
  }
 },
 "nbformat": 4,
 "nbformat_minor": 1
}
