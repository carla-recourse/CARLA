{
 "cells": [
  {
   "cell_type": "markdown",
   "metadata": {
    "collapsed": true,
    "pycharm": {
     "name": "#%% md\n"
    }
   },
   "source": [
    "In the following notebook we will show how you can use the CARLA library."
   ]
  },
  {
   "cell_type": "markdown",
   "source": [
    "# How to use CARLA\n"
   ],
   "metadata": {
    "collapsed": false,
    "pycharm": {
     "name": "#%% md\n"
    }
   }
  },
  {
   "cell_type": "code",
   "execution_count": null,
   "outputs": [],
   "source": [
    "from IPython.display import display\n",
    "\n",
    "import warnings\n",
    "warnings.filterwarnings('ignore')"
   ],
   "metadata": {
    "collapsed": false,
    "pycharm": {
     "name": "#%%\n"
    }
   }
  },
  {
   "cell_type": "markdown",
   "source": [
    "## Data\n",
    "\n",
    "Before we can do anything else we need some data.\n",
    "You could import one of the datasets in our [OnlineCatalog](https://carla-counterfactual-and-recourse-library.readthedocs.io/en/latest/data.html#module-data.catalog.online_catalog),\n",
    "however maybe you want to use your own data instead. This can easily be done by using the [CsvCatalog](https://carla-counterfactual-and-recourse-library.readthedocs.io/en/latest/data.html#module-data.catalog.csv_catalog).\n",
    "\n",
    "For the CsvCatalog there are 5 attributes.\n",
    "The *file_path* should be the path of the csv file you want to use.\n",
    "Then we have two different types of features, *continous* and *categorical*, of which some can be *immutables*.\n",
    "Finally the *target* attribute is the column which contains the targets/labels.\n"
   ],
   "metadata": {
    "collapsed": false,
    "pycharm": {
     "name": "#%% md\n"
    }
   }
  },
  {
   "cell_type": "code",
   "execution_count": 2,
   "outputs": [
    {
     "data": {
      "text/plain": "            age    fnlwgt  education-num  capital-gain  capital-loss  ...  \\\n0      0.301370  0.044131       0.800000      0.021740           0.0  ...   \n1      0.452055  0.048052       0.800000      0.000000           0.0  ...   \n2      0.287671  0.137581       0.533333      0.000000           0.0  ...   \n3      0.493151  0.150486       0.400000      0.000000           0.0  ...   \n4      0.150685  0.220635       0.800000      0.000000           0.0  ...   \n...         ...       ...            ...           ...           ...  ...   \n48827  0.301370  0.137428       0.800000      0.000000           0.0  ...   \n48828  0.643836  0.209130       0.533333      0.000000           0.0  ...   \n48829  0.287671  0.245379       0.800000      0.000000           0.0  ...   \n48830  0.369863  0.048444       0.800000      0.054551           0.0  ...   \n48831  0.246575  0.114919       0.800000      0.000000           0.0  ...   \n\n       occupation_Other  race_White  relationship_Non-Husband  sex_Male  \\\n0                   0.0         1.0                       1.0       1.0   \n1                   0.0         1.0                       0.0       1.0   \n2                   1.0         1.0                       1.0       1.0   \n3                   1.0         0.0                       0.0       1.0   \n4                   0.0         0.0                       1.0       0.0   \n...                 ...         ...                       ...       ...   \n48827               0.0         1.0                       1.0       0.0   \n48828               0.0         0.0                       1.0       1.0   \n48829               0.0         1.0                       0.0       1.0   \n48830               0.0         0.0                       1.0       1.0   \n48831               0.0         1.0                       0.0       1.0   \n\n       workclass_Private  \n0                    0.0  \n1                    0.0  \n2                    1.0  \n3                    1.0  \n4                    1.0  \n...                  ...  \n48827                1.0  \n48828                1.0  \n48829                1.0  \n48830                1.0  \n48831                0.0  \n\n[48832 rows x 14 columns]",
      "text/html": "<div>\n<style scoped>\n    .dataframe tbody tr th:only-of-type {\n        vertical-align: middle;\n    }\n\n    .dataframe tbody tr th {\n        vertical-align: top;\n    }\n\n    .dataframe thead th {\n        text-align: right;\n    }\n</style>\n<table border=\"1\" class=\"dataframe\">\n  <thead>\n    <tr style=\"text-align: right;\">\n      <th></th>\n      <th>age</th>\n      <th>fnlwgt</th>\n      <th>education-num</th>\n      <th>capital-gain</th>\n      <th>capital-loss</th>\n      <th>...</th>\n      <th>occupation_Other</th>\n      <th>race_White</th>\n      <th>relationship_Non-Husband</th>\n      <th>sex_Male</th>\n      <th>workclass_Private</th>\n    </tr>\n  </thead>\n  <tbody>\n    <tr>\n      <th>0</th>\n      <td>0.301370</td>\n      <td>0.044131</td>\n      <td>0.800000</td>\n      <td>0.021740</td>\n      <td>0.0</td>\n      <td>...</td>\n      <td>0.0</td>\n      <td>1.0</td>\n      <td>1.0</td>\n      <td>1.0</td>\n      <td>0.0</td>\n    </tr>\n    <tr>\n      <th>1</th>\n      <td>0.452055</td>\n      <td>0.048052</td>\n      <td>0.800000</td>\n      <td>0.000000</td>\n      <td>0.0</td>\n      <td>...</td>\n      <td>0.0</td>\n      <td>1.0</td>\n      <td>0.0</td>\n      <td>1.0</td>\n      <td>0.0</td>\n    </tr>\n    <tr>\n      <th>2</th>\n      <td>0.287671</td>\n      <td>0.137581</td>\n      <td>0.533333</td>\n      <td>0.000000</td>\n      <td>0.0</td>\n      <td>...</td>\n      <td>1.0</td>\n      <td>1.0</td>\n      <td>1.0</td>\n      <td>1.0</td>\n      <td>1.0</td>\n    </tr>\n    <tr>\n      <th>3</th>\n      <td>0.493151</td>\n      <td>0.150486</td>\n      <td>0.400000</td>\n      <td>0.000000</td>\n      <td>0.0</td>\n      <td>...</td>\n      <td>1.0</td>\n      <td>0.0</td>\n      <td>0.0</td>\n      <td>1.0</td>\n      <td>1.0</td>\n    </tr>\n    <tr>\n      <th>4</th>\n      <td>0.150685</td>\n      <td>0.220635</td>\n      <td>0.800000</td>\n      <td>0.000000</td>\n      <td>0.0</td>\n      <td>...</td>\n      <td>0.0</td>\n      <td>0.0</td>\n      <td>1.0</td>\n      <td>0.0</td>\n      <td>1.0</td>\n    </tr>\n    <tr>\n      <th>...</th>\n      <td>...</td>\n      <td>...</td>\n      <td>...</td>\n      <td>...</td>\n      <td>...</td>\n      <td>...</td>\n      <td>...</td>\n      <td>...</td>\n      <td>...</td>\n      <td>...</td>\n      <td>...</td>\n    </tr>\n    <tr>\n      <th>48827</th>\n      <td>0.301370</td>\n      <td>0.137428</td>\n      <td>0.800000</td>\n      <td>0.000000</td>\n      <td>0.0</td>\n      <td>...</td>\n      <td>0.0</td>\n      <td>1.0</td>\n      <td>1.0</td>\n      <td>0.0</td>\n      <td>1.0</td>\n    </tr>\n    <tr>\n      <th>48828</th>\n      <td>0.643836</td>\n      <td>0.209130</td>\n      <td>0.533333</td>\n      <td>0.000000</td>\n      <td>0.0</td>\n      <td>...</td>\n      <td>0.0</td>\n      <td>0.0</td>\n      <td>1.0</td>\n      <td>1.0</td>\n      <td>1.0</td>\n    </tr>\n    <tr>\n      <th>48829</th>\n      <td>0.287671</td>\n      <td>0.245379</td>\n      <td>0.800000</td>\n      <td>0.000000</td>\n      <td>0.0</td>\n      <td>...</td>\n      <td>0.0</td>\n      <td>1.0</td>\n      <td>0.0</td>\n      <td>1.0</td>\n      <td>1.0</td>\n    </tr>\n    <tr>\n      <th>48830</th>\n      <td>0.369863</td>\n      <td>0.048444</td>\n      <td>0.800000</td>\n      <td>0.054551</td>\n      <td>0.0</td>\n      <td>...</td>\n      <td>0.0</td>\n      <td>0.0</td>\n      <td>1.0</td>\n      <td>1.0</td>\n      <td>1.0</td>\n    </tr>\n    <tr>\n      <th>48831</th>\n      <td>0.246575</td>\n      <td>0.114919</td>\n      <td>0.800000</td>\n      <td>0.000000</td>\n      <td>0.0</td>\n      <td>...</td>\n      <td>0.0</td>\n      <td>1.0</td>\n      <td>0.0</td>\n      <td>1.0</td>\n      <td>0.0</td>\n    </tr>\n  </tbody>\n</table>\n<p>48832 rows × 14 columns</p>\n</div>"
     },
     "metadata": {},
     "output_type": "display_data"
    }
   ],
   "source": [
    "from carla.data.catalog import CsvCatalog\n",
    "\n",
    "continuous = [\"age\", \"fnlwgt\", \"education-num\", \"capital-gain\", \"hours-per-week\", \"capital-loss\"]\n",
    "categorical = [\"marital-status\", \"native-country\", \"occupation\", \"race\", \"relationship\", \"sex\", \"workclass\"]\n",
    "immutable = [\"age\", \"sex\"]\n",
    "\n",
    "dataset = CsvCatalog(file_path=\"adult.csv\",\n",
    "                     continuous=continuous,\n",
    "                     categorical=categorical,\n",
    "                     immutables=immutable,\n",
    "                     target='income')\n",
    "\n",
    "\n",
    "\n",
    "display(dataset.df)"
   ],
   "metadata": {
    "collapsed": false,
    "pycharm": {
     "name": "#%%\n"
    }
   }
  },
  {
   "cell_type": "markdown",
   "source": [
    "## Model\n",
    "\n",
    "Now that we have the data loaded we also need a classification model.\n",
    "You could define your own [model](https://carla-counterfactual-and-recourse-library.readthedocs.io/en/latest/examples.html#black-box-model),\n",
    "however here we will show how you can train one of our [catalog](https://carla-counterfactual-and-recourse-library.readthedocs.io/en/latest/mlmodel.html#module-models.catalog.catalog) models.\n",
    "Note that depending on your data you might need to tweak the training hyperparameters.\n",
    "\n",
    "For example for the ann used here we need to define the *learning rate*, *number of epochs*, *batch size*, and the *sizes of the hidden layers*.\n",
    "Then after defining the model using *MLModelCatalog*, just call the *train* method with those parameters and you are good to go!"
   ],
   "metadata": {
    "collapsed": false,
    "pycharm": {
     "name": "#%% md\n"
    }
   }
  },
  {
   "cell_type": "code",
   "execution_count": 3,
   "outputs": [],
   "source": [
    "from carla.models.catalog import MLModelCatalog"
   ],
   "metadata": {
    "collapsed": false,
    "pycharm": {
     "name": "#%%\n"
    }
   }
  },
  {
   "cell_type": "code",
   "execution_count": 4,
   "outputs": [
    {
     "name": "stdout",
     "output_type": "stream",
     "text": [
      "Loaded model from /home/johan/carla/models/custom/ann_layers_18_9_3.pt\n",
      "test accuracy for model: 0.8352719528178244\n"
     ]
    }
   ],
   "source": [
    "training_params = {\"lr\": 0.002, \"epochs\": 10, \"batch_size\": 1024, \"hidden_size\": [18, 9, 3]}\n",
    "\n",
    "ml_model = MLModelCatalog(\n",
    "    dataset, model_type=\"ann\", load_online=False, backend=\"pytorch\"\n",
    ")\n",
    "ml_model.train(\n",
    "    learning_rate=training_params[\"lr\"],\n",
    "    epochs=training_params[\"epochs\"],\n",
    "    batch_size=training_params[\"batch_size\"],\n",
    "    hidden_size=training_params[\"hidden_size\"]\n",
    ")"
   ],
   "metadata": {
    "collapsed": false,
    "pycharm": {
     "name": "#%%\n"
    }
   }
  },
  {
   "cell_type": "markdown",
   "source": [
    "## Recourse\n",
    "\n",
    "Now that we have both the data, and a model we can start using CARLA to generate counterfactuals.\n",
    "You can pick a [recourse method](https://carla-counterfactual-and-recourse-library.readthedocs.io/en/latest/recourse.html) from the catalog, or implement one yourself.\n",
    "In the following example we are getting negative labeled samples for which we want counterfactuals."
   ],
   "metadata": {
    "collapsed": false,
    "pycharm": {
     "name": "#%% md\n"
    }
   }
  },
  {
   "cell_type": "code",
   "execution_count": 5,
   "outputs": [],
   "source": [
    "from carla.models.negative_instances import predict_negative_instances\n",
    "import carla.recourse_methods.catalog as recourse_catalog"
   ],
   "metadata": {
    "collapsed": false,
    "pycharm": {
     "name": "#%%\n"
    }
   }
  },
  {
   "cell_type": "code",
   "execution_count": 6,
   "outputs": [
    {
     "data": {
      "text/plain": "        age    fnlwgt  education-num  capital-gain  capital-loss  ...  \\\n0  0.301370  0.044131       0.800000       0.02174           0.0  ...   \n1  0.452055  0.048052       0.800000       0.00000           0.0  ...   \n2  0.287671  0.137581       0.533333       0.00000           0.0  ...   \n3  0.493151  0.150486       0.400000       0.00000           0.0  ...   \n4  0.150685  0.220635       0.800000       0.00000           0.0  ...   \n\n   occupation_Other  race_White  relationship_Non-Husband  sex_Male  \\\n0               0.0         1.0                       1.0       1.0   \n1               0.0         1.0                       0.0       1.0   \n2               1.0         1.0                       1.0       1.0   \n3               1.0         0.0                       0.0       1.0   \n4               0.0         0.0                       1.0       0.0   \n\n   workclass_Private  \n0                0.0  \n1                0.0  \n2                1.0  \n3                1.0  \n4                1.0  \n\n[5 rows x 14 columns]",
      "text/html": "<div>\n<style scoped>\n    .dataframe tbody tr th:only-of-type {\n        vertical-align: middle;\n    }\n\n    .dataframe tbody tr th {\n        vertical-align: top;\n    }\n\n    .dataframe thead th {\n        text-align: right;\n    }\n</style>\n<table border=\"1\" class=\"dataframe\">\n  <thead>\n    <tr style=\"text-align: right;\">\n      <th></th>\n      <th>age</th>\n      <th>fnlwgt</th>\n      <th>education-num</th>\n      <th>capital-gain</th>\n      <th>capital-loss</th>\n      <th>...</th>\n      <th>occupation_Other</th>\n      <th>race_White</th>\n      <th>relationship_Non-Husband</th>\n      <th>sex_Male</th>\n      <th>workclass_Private</th>\n    </tr>\n  </thead>\n  <tbody>\n    <tr>\n      <th>0</th>\n      <td>0.301370</td>\n      <td>0.044131</td>\n      <td>0.800000</td>\n      <td>0.02174</td>\n      <td>0.0</td>\n      <td>...</td>\n      <td>0.0</td>\n      <td>1.0</td>\n      <td>1.0</td>\n      <td>1.0</td>\n      <td>0.0</td>\n    </tr>\n    <tr>\n      <th>1</th>\n      <td>0.452055</td>\n      <td>0.048052</td>\n      <td>0.800000</td>\n      <td>0.00000</td>\n      <td>0.0</td>\n      <td>...</td>\n      <td>0.0</td>\n      <td>1.0</td>\n      <td>0.0</td>\n      <td>1.0</td>\n      <td>0.0</td>\n    </tr>\n    <tr>\n      <th>2</th>\n      <td>0.287671</td>\n      <td>0.137581</td>\n      <td>0.533333</td>\n      <td>0.00000</td>\n      <td>0.0</td>\n      <td>...</td>\n      <td>1.0</td>\n      <td>1.0</td>\n      <td>1.0</td>\n      <td>1.0</td>\n      <td>1.0</td>\n    </tr>\n    <tr>\n      <th>3</th>\n      <td>0.493151</td>\n      <td>0.150486</td>\n      <td>0.400000</td>\n      <td>0.00000</td>\n      <td>0.0</td>\n      <td>...</td>\n      <td>1.0</td>\n      <td>0.0</td>\n      <td>0.0</td>\n      <td>1.0</td>\n      <td>1.0</td>\n    </tr>\n    <tr>\n      <th>4</th>\n      <td>0.150685</td>\n      <td>0.220635</td>\n      <td>0.800000</td>\n      <td>0.00000</td>\n      <td>0.0</td>\n      <td>...</td>\n      <td>0.0</td>\n      <td>0.0</td>\n      <td>1.0</td>\n      <td>0.0</td>\n      <td>1.0</td>\n    </tr>\n  </tbody>\n</table>\n<p>5 rows × 14 columns</p>\n</div>"
     },
     "metadata": {},
     "output_type": "display_data"
    }
   ],
   "source": [
    "factuals = predict_negative_instances(ml_model, dataset.df)\n",
    "test_factual = factuals.iloc[:5]\n",
    "\n",
    "display(test_factual)"
   ],
   "metadata": {
    "collapsed": false,
    "pycharm": {
     "name": "#%%\n"
    }
   }
  },
  {
   "cell_type": "markdown",
   "source": [
    "### Wachter (gradient method)"
   ],
   "metadata": {
    "collapsed": false,
    "pycharm": {
     "name": "#%% md\n"
    }
   }
  },
  {
   "cell_type": "code",
   "execution_count": 7,
   "outputs": [
    {
     "name": "stdout",
     "output_type": "stream",
     "text": [
      "[INFO] Counterfactual Explanation Found [wachter.py wachter_recourse]\n",
      "[INFO] Counterfactual Explanation Found [wachter.py wachter_recourse]\n",
      "[INFO] Counterfactual Explanation Found [wachter.py wachter_recourse]\n",
      "[INFO] Counterfactual Explanation Found [wachter.py wachter_recourse]\n",
      "[INFO] Counterfactual Explanation Found [wachter.py wachter_recourse]\n"
     ]
    },
    {
     "data": {
      "text/plain": "        age  capital-gain  capital-loss  education-num    fnlwgt  ...  \\\n0  0.367432      0.089006      0.066957       0.867384  0.112537  ...   \n1  0.481818      0.029809      0.029803       0.829806  0.077834  ...   \n2  0.443121      0.155943      0.155183       0.689581  0.185220  ...   \n3  0.557433      0.066598      0.066980       0.467272  0.217566  ...   \n4  0.293216      0.142940      0.141745       0.943278  0.328395  ...   \n\n   race_White  relationship_Non-Husband  sex_Male  workclass_Private  income  \n0         1.0                       1.0       0.0          -0.066813     1.0  \n1         1.0                       0.0       1.0           0.026993     1.0  \n2         0.0                       1.0       0.0           0.847155     1.0  \n3         0.0                       0.0       1.0           0.935313     1.0  \n4         0.0                       1.0       0.0           0.860906     1.0  \n\n[5 rows x 14 columns]",
      "text/html": "<div>\n<style scoped>\n    .dataframe tbody tr th:only-of-type {\n        vertical-align: middle;\n    }\n\n    .dataframe tbody tr th {\n        vertical-align: top;\n    }\n\n    .dataframe thead th {\n        text-align: right;\n    }\n</style>\n<table border=\"1\" class=\"dataframe\">\n  <thead>\n    <tr style=\"text-align: right;\">\n      <th></th>\n      <th>age</th>\n      <th>capital-gain</th>\n      <th>capital-loss</th>\n      <th>education-num</th>\n      <th>fnlwgt</th>\n      <th>...</th>\n      <th>race_White</th>\n      <th>relationship_Non-Husband</th>\n      <th>sex_Male</th>\n      <th>workclass_Private</th>\n      <th>income</th>\n    </tr>\n  </thead>\n  <tbody>\n    <tr>\n      <th>0</th>\n      <td>0.367432</td>\n      <td>0.089006</td>\n      <td>0.066957</td>\n      <td>0.867384</td>\n      <td>0.112537</td>\n      <td>...</td>\n      <td>1.0</td>\n      <td>1.0</td>\n      <td>0.0</td>\n      <td>-0.066813</td>\n      <td>1.0</td>\n    </tr>\n    <tr>\n      <th>1</th>\n      <td>0.481818</td>\n      <td>0.029809</td>\n      <td>0.029803</td>\n      <td>0.829806</td>\n      <td>0.077834</td>\n      <td>...</td>\n      <td>1.0</td>\n      <td>0.0</td>\n      <td>1.0</td>\n      <td>0.026993</td>\n      <td>1.0</td>\n    </tr>\n    <tr>\n      <th>2</th>\n      <td>0.443121</td>\n      <td>0.155943</td>\n      <td>0.155183</td>\n      <td>0.689581</td>\n      <td>0.185220</td>\n      <td>...</td>\n      <td>0.0</td>\n      <td>1.0</td>\n      <td>0.0</td>\n      <td>0.847155</td>\n      <td>1.0</td>\n    </tr>\n    <tr>\n      <th>3</th>\n      <td>0.557433</td>\n      <td>0.066598</td>\n      <td>0.066980</td>\n      <td>0.467272</td>\n      <td>0.217566</td>\n      <td>...</td>\n      <td>0.0</td>\n      <td>0.0</td>\n      <td>1.0</td>\n      <td>0.935313</td>\n      <td>1.0</td>\n    </tr>\n    <tr>\n      <th>4</th>\n      <td>0.293216</td>\n      <td>0.142940</td>\n      <td>0.141745</td>\n      <td>0.943278</td>\n      <td>0.328395</td>\n      <td>...</td>\n      <td>0.0</td>\n      <td>1.0</td>\n      <td>0.0</td>\n      <td>0.860906</td>\n      <td>1.0</td>\n    </tr>\n  </tbody>\n</table>\n<p>5 rows × 14 columns</p>\n</div>"
     },
     "metadata": {},
     "output_type": "display_data"
    }
   ],
   "source": [
    "hyperparams = {\"loss_type\": \"BCE\", \"binary_cat_features\": False}\n",
    "recourse_method = recourse_catalog.Wachter(ml_model, hyperparams)\n",
    "df_cfs = recourse_method.get_counterfactuals(test_factual)\n",
    "\n",
    "display(df_cfs)"
   ],
   "metadata": {
    "collapsed": false,
    "pycharm": {
     "name": "#%%\n"
    }
   }
  },
  {
   "cell_type": "markdown",
   "source": [
    "### CCHVAE (manifold method)"
   ],
   "metadata": {
    "collapsed": false,
    "pycharm": {
     "name": "#%% md\n"
    }
   }
  },
  {
   "cell_type": "code",
   "execution_count": 8,
   "outputs": [
    {
     "name": "stdout",
     "output_type": "stream",
     "text": [
      "[INFO] Start training of Variational Autoencoder... [models.py fit]\n",
      "[INFO] [Epoch: 0/5] [objective: 0.381] [models.py fit]\n",
      "[INFO] [ELBO train: 0.38] [models.py fit]\n",
      "[INFO] [ELBO train: 0.14] [models.py fit]\n",
      "[INFO] [ELBO train: 0.12] [models.py fit]\n",
      "[INFO] [ELBO train: 0.12] [models.py fit]\n",
      "[INFO] [ELBO train: 0.12] [models.py fit]\n",
      "[INFO] ... finished training of Variational Autoencoder. [models.py fit]\n"
     ]
    },
    {
     "data": {
      "text/plain": "        age  capital-gain  capital-loss  education-num    fnlwgt  ...  \\\n0  0.296436      0.036346      0.039863       0.611104  0.119577  ...   \n1  0.296440      0.036346      0.039861       0.611104  0.119578  ...   \n2  0.296438      0.036347      0.039863       0.611091  0.119577  ...   \n3  0.296442      0.036346      0.039863       0.611091  0.119577  ...   \n4  0.296436      0.036347      0.039862       0.611106  0.119577  ...   \n\n   race_White  relationship_Non-Husband  sex_Male  workclass_Private  income  \n0         1.0                       0.0       1.0           0.735209     1.0  \n1         1.0                       0.0       1.0           0.735207     1.0  \n2         1.0                       0.0       1.0           0.735207     1.0  \n3         1.0                       0.0       1.0           0.735208     1.0  \n4         1.0                       0.0       1.0           0.735207     1.0  \n\n[5 rows x 14 columns]",
      "text/html": "<div>\n<style scoped>\n    .dataframe tbody tr th:only-of-type {\n        vertical-align: middle;\n    }\n\n    .dataframe tbody tr th {\n        vertical-align: top;\n    }\n\n    .dataframe thead th {\n        text-align: right;\n    }\n</style>\n<table border=\"1\" class=\"dataframe\">\n  <thead>\n    <tr style=\"text-align: right;\">\n      <th></th>\n      <th>age</th>\n      <th>capital-gain</th>\n      <th>capital-loss</th>\n      <th>education-num</th>\n      <th>fnlwgt</th>\n      <th>...</th>\n      <th>race_White</th>\n      <th>relationship_Non-Husband</th>\n      <th>sex_Male</th>\n      <th>workclass_Private</th>\n      <th>income</th>\n    </tr>\n  </thead>\n  <tbody>\n    <tr>\n      <th>0</th>\n      <td>0.296436</td>\n      <td>0.036346</td>\n      <td>0.039863</td>\n      <td>0.611104</td>\n      <td>0.119577</td>\n      <td>...</td>\n      <td>1.0</td>\n      <td>0.0</td>\n      <td>1.0</td>\n      <td>0.735209</td>\n      <td>1.0</td>\n    </tr>\n    <tr>\n      <th>1</th>\n      <td>0.296440</td>\n      <td>0.036346</td>\n      <td>0.039861</td>\n      <td>0.611104</td>\n      <td>0.119578</td>\n      <td>...</td>\n      <td>1.0</td>\n      <td>0.0</td>\n      <td>1.0</td>\n      <td>0.735207</td>\n      <td>1.0</td>\n    </tr>\n    <tr>\n      <th>2</th>\n      <td>0.296438</td>\n      <td>0.036347</td>\n      <td>0.039863</td>\n      <td>0.611091</td>\n      <td>0.119577</td>\n      <td>...</td>\n      <td>1.0</td>\n      <td>0.0</td>\n      <td>1.0</td>\n      <td>0.735207</td>\n      <td>1.0</td>\n    </tr>\n    <tr>\n      <th>3</th>\n      <td>0.296442</td>\n      <td>0.036346</td>\n      <td>0.039863</td>\n      <td>0.611091</td>\n      <td>0.119577</td>\n      <td>...</td>\n      <td>1.0</td>\n      <td>0.0</td>\n      <td>1.0</td>\n      <td>0.735208</td>\n      <td>1.0</td>\n    </tr>\n    <tr>\n      <th>4</th>\n      <td>0.296436</td>\n      <td>0.036347</td>\n      <td>0.039862</td>\n      <td>0.611106</td>\n      <td>0.119577</td>\n      <td>...</td>\n      <td>1.0</td>\n      <td>0.0</td>\n      <td>1.0</td>\n      <td>0.735207</td>\n      <td>1.0</td>\n    </tr>\n  </tbody>\n</table>\n<p>5 rows × 14 columns</p>\n</div>"
     },
     "metadata": {},
     "output_type": "display_data"
    }
   ],
   "source": [
    "hyperparams = {\n",
    "    \"data_name\": dataset.name,\n",
    "    \"n_search_samples\": 100,\n",
    "    \"p_norm\": 1,\n",
    "    \"step\": 0.1,\n",
    "    \"max_iter\": 1000,\n",
    "    \"clamp\": True,\n",
    "    \"binary_cat_features\": False,\n",
    "    \"vae_params\": {\n",
    "        \"layers\": [len(ml_model.feature_input_order), 512, 256, 8],\n",
    "        \"train\": True,\n",
    "        \"lambda_reg\": 1e-6,\n",
    "        \"epochs\": 5,\n",
    "        \"lr\": 1e-3,\n",
    "        \"batch_size\": 32,\n",
    "    },\n",
    "}\n",
    "\n",
    "cchvae = recourse_catalog.CCHVAE(ml_model, hyperparams)\n",
    "df_cfs = cchvae.get_counterfactuals(test_factual)\n",
    "\n",
    "display(df_cfs)"
   ],
   "metadata": {
    "collapsed": false,
    "pycharm": {
     "name": "#%%\n"
    }
   }
  },
  {
   "cell_type": "markdown",
   "source": [
    "### FOCUS (tree method)\n",
    "\n",
    "For tree methods we need to use a tree model."
   ],
   "metadata": {
    "collapsed": false,
    "pycharm": {
     "name": "#%% md\n"
    }
   }
  },
  {
   "cell_type": "code",
   "execution_count": 9,
   "outputs": [
    {
     "name": "stdout",
     "output_type": "stream",
     "text": [
      "[0]\tvalidation_0-logloss:0.58430\tvalidation_1-logloss:0.58264\n",
      "[1]\tvalidation_0-logloss:0.52405\tvalidation_1-logloss:0.52231\n",
      "[2]\tvalidation_0-logloss:0.48641\tvalidation_1-logloss:0.48288\n",
      "[3]\tvalidation_0-logloss:0.46130\tvalidation_1-logloss:0.45807\n",
      "[4]\tvalidation_0-logloss:0.44276\tvalidation_1-logloss:0.43849\n"
     ]
    },
    {
     "data": {
      "text/plain": "        age    fnlwgt  education-num  capital-gain  capital-loss  ...  \\\n0  0.301370  0.044131       0.800000       0.02174           0.0  ...   \n1  0.452055  0.048052       0.800000       0.00000           0.0  ...   \n2  0.287671  0.137581       0.533333       0.00000           0.0  ...   \n3  0.493151  0.150486       0.400000       0.00000           0.0  ...   \n4  0.150685  0.220635       0.800000       0.00000           0.0  ...   \n\n   occupation_Other  race_White  relationship_Non-Husband  sex_Male  \\\n0               0.0         1.0                       1.0       1.0   \n1               0.0         1.0                       0.0       1.0   \n2               1.0         1.0                       1.0       1.0   \n3               1.0         0.0                       0.0       1.0   \n4               0.0         0.0                       1.0       0.0   \n\n   workclass_Private  \n0                0.0  \n1                0.0  \n2                1.0  \n3                1.0  \n4                1.0  \n\n[5 rows x 14 columns]",
      "text/html": "<div>\n<style scoped>\n    .dataframe tbody tr th:only-of-type {\n        vertical-align: middle;\n    }\n\n    .dataframe tbody tr th {\n        vertical-align: top;\n    }\n\n    .dataframe thead th {\n        text-align: right;\n    }\n</style>\n<table border=\"1\" class=\"dataframe\">\n  <thead>\n    <tr style=\"text-align: right;\">\n      <th></th>\n      <th>age</th>\n      <th>fnlwgt</th>\n      <th>education-num</th>\n      <th>capital-gain</th>\n      <th>capital-loss</th>\n      <th>...</th>\n      <th>occupation_Other</th>\n      <th>race_White</th>\n      <th>relationship_Non-Husband</th>\n      <th>sex_Male</th>\n      <th>workclass_Private</th>\n    </tr>\n  </thead>\n  <tbody>\n    <tr>\n      <th>0</th>\n      <td>0.301370</td>\n      <td>0.044131</td>\n      <td>0.800000</td>\n      <td>0.02174</td>\n      <td>0.0</td>\n      <td>...</td>\n      <td>0.0</td>\n      <td>1.0</td>\n      <td>1.0</td>\n      <td>1.0</td>\n      <td>0.0</td>\n    </tr>\n    <tr>\n      <th>1</th>\n      <td>0.452055</td>\n      <td>0.048052</td>\n      <td>0.800000</td>\n      <td>0.00000</td>\n      <td>0.0</td>\n      <td>...</td>\n      <td>0.0</td>\n      <td>1.0</td>\n      <td>0.0</td>\n      <td>1.0</td>\n      <td>0.0</td>\n    </tr>\n    <tr>\n      <th>2</th>\n      <td>0.287671</td>\n      <td>0.137581</td>\n      <td>0.533333</td>\n      <td>0.00000</td>\n      <td>0.0</td>\n      <td>...</td>\n      <td>1.0</td>\n      <td>1.0</td>\n      <td>1.0</td>\n      <td>1.0</td>\n      <td>1.0</td>\n    </tr>\n    <tr>\n      <th>3</th>\n      <td>0.493151</td>\n      <td>0.150486</td>\n      <td>0.400000</td>\n      <td>0.00000</td>\n      <td>0.0</td>\n      <td>...</td>\n      <td>1.0</td>\n      <td>0.0</td>\n      <td>0.0</td>\n      <td>1.0</td>\n      <td>1.0</td>\n    </tr>\n    <tr>\n      <th>4</th>\n      <td>0.150685</td>\n      <td>0.220635</td>\n      <td>0.800000</td>\n      <td>0.00000</td>\n      <td>0.0</td>\n      <td>...</td>\n      <td>0.0</td>\n      <td>0.0</td>\n      <td>1.0</td>\n      <td>0.0</td>\n      <td>1.0</td>\n    </tr>\n  </tbody>\n</table>\n<p>5 rows × 14 columns</p>\n</div>"
     },
     "metadata": {},
     "output_type": "display_data"
    }
   ],
   "source": [
    "from carla.recourse_methods.catalog.focus.tree_model import ForestModel, XGBoostModel\n",
    "ml_model = XGBoostModel(dataset)\n",
    "\n",
    "factuals = predict_negative_instances(ml_model, dataset.df)\n",
    "test_factual = factuals.iloc[:5]\n",
    "\n",
    "display(test_factual)"
   ],
   "metadata": {
    "collapsed": false,
    "pycharm": {
     "name": "#%%\n"
    }
   }
  },
  {
   "cell_type": "code",
   "execution_count": 11,
   "outputs": [
    {
     "name": "stdout",
     "output_type": "stream",
     "text": [
      "[WARNING] From /home/johan/Dropbox/Documents/Master/HiWi/CARLA/carla/recourse_methods/catalog/focus/model.py:112: The name tf.train.AdamOptimizer is deprecated. Please use tf.compat.v1.train.AdamOptimizer instead.\n",
      " [deprecation_wrapper.py __getattr__]\n",
      "[WARNING] From /home/johan/Dropbox/Documents/Master/HiWi/CARLA/carla/recourse_methods/catalog/focus/model.py:221: The name tf.Session is deprecated. Please use tf.compat.v1.Session instead.\n",
      " [deprecation_wrapper.py __getattr__]\n",
      "[WARNING] From /home/johan/Dropbox/Documents/Master/HiWi/CARLA/env/lib/python3.7/site-packages/tensorflow/python/ops/array_ops.py:1354: add_dispatch_support.<locals>.wrapper (from tensorflow.python.ops.array_ops) is deprecated and will be removed in a future version.\n",
      "Instructions for updating:\n",
      "Use tf.where in 2.0, which has the same broadcast rule as np.where [deprecation.py new_func]\n",
      "[WARNING] Calling GradientTape.gradient on a persistent tape inside its context is significantly less efficient than calling it outside the context (it causes the gradient ops to be recorded on the tape, leading to increased CPU and memory usage). Only call GradientTape.gradient inside the context if you actually want to trace the gradient in order to compute higher order derivatives. [backprop.py gradient]\n",
      "[WARNING] From /home/johan/Dropbox/Documents/Master/HiWi/CARLA/carla/recourse_methods/catalog/focus/model.py:185: The name tf.train.get_or_create_global_step is deprecated. Please use tf.compat.v1.train.get_or_create_global_step instead.\n",
      " [deprecation_wrapper.py __getattr__]\n",
      "[WARNING] From /home/johan/Dropbox/Documents/Master/HiWi/CARLA/carla/recourse_methods/catalog/focus/model.py:188: The name tf.assign is deprecated. Please use tf.compat.v1.assign instead.\n",
      " [deprecation_wrapper.py __getattr__]\n"
     ]
    },
    {
     "data": {
      "text/plain": "        age    fnlwgt  education-num  capital-gain  hours-per-week  \\\n0  0.301334  0.044131       0.800122      0.050959        0.397957   \n1  0.452000  0.048052       0.799939      0.050966        0.122447   \n2  0.287669  0.137581       0.533282      0.051229        0.397948   \n3  0.493188  0.150486       0.399974      0.051238        0.397911   \n4  0.150717  0.220635       0.800025      0.070590        0.397960   \n\n   capital-loss  \n0           0.0  \n1           0.0  \n2           0.0  \n3           0.0  \n4           0.0  ",
      "text/html": "<div>\n<style scoped>\n    .dataframe tbody tr th:only-of-type {\n        vertical-align: middle;\n    }\n\n    .dataframe tbody tr th {\n        vertical-align: top;\n    }\n\n    .dataframe thead th {\n        text-align: right;\n    }\n</style>\n<table border=\"1\" class=\"dataframe\">\n  <thead>\n    <tr style=\"text-align: right;\">\n      <th></th>\n      <th>age</th>\n      <th>fnlwgt</th>\n      <th>education-num</th>\n      <th>capital-gain</th>\n      <th>hours-per-week</th>\n      <th>capital-loss</th>\n    </tr>\n  </thead>\n  <tbody>\n    <tr>\n      <th>0</th>\n      <td>0.301334</td>\n      <td>0.044131</td>\n      <td>0.800122</td>\n      <td>0.050959</td>\n      <td>0.397957</td>\n      <td>0.0</td>\n    </tr>\n    <tr>\n      <th>1</th>\n      <td>0.452000</td>\n      <td>0.048052</td>\n      <td>0.799939</td>\n      <td>0.050966</td>\n      <td>0.122447</td>\n      <td>0.0</td>\n    </tr>\n    <tr>\n      <th>2</th>\n      <td>0.287669</td>\n      <td>0.137581</td>\n      <td>0.533282</td>\n      <td>0.051229</td>\n      <td>0.397948</td>\n      <td>0.0</td>\n    </tr>\n    <tr>\n      <th>3</th>\n      <td>0.493188</td>\n      <td>0.150486</td>\n      <td>0.399974</td>\n      <td>0.051238</td>\n      <td>0.397911</td>\n      <td>0.0</td>\n    </tr>\n    <tr>\n      <th>4</th>\n      <td>0.150717</td>\n      <td>0.220635</td>\n      <td>0.800025</td>\n      <td>0.070590</td>\n      <td>0.397960</td>\n      <td>0.0</td>\n    </tr>\n  </tbody>\n</table>\n</div>"
     },
     "metadata": {},
     "output_type": "display_data"
    }
   ],
   "source": [
    "hyperparams = {\n",
    "    \"optimizer\": \"adam\",\n",
    "    \"lr\": 0.001,\n",
    "    \"n_class\": 2,\n",
    "    \"n_iter\": 1000,\n",
    "    \"sigma\": 1.0,\n",
    "    \"temperature\": 1.0,\n",
    "    \"distance_weight\": 0.01,\n",
    "    \"distance_func\": \"l1\",\n",
    "}\n",
    "\n",
    "focus = recourse_catalog.FOCUS(ml_model, hyperparams)\n",
    "df_cfs = focus.get_counterfactuals(test_factual)\n",
    "display(df_cfs)"
   ],
   "metadata": {
    "collapsed": false,
    "pycharm": {
     "name": "#%%\n"
    }
   }
  },
  {
   "cell_type": "code",
   "execution_count": null,
   "outputs": [],
   "source": [],
   "metadata": {
    "collapsed": false,
    "pycharm": {
     "name": "#%%\n"
    }
   }
  }
 ],
 "metadata": {
  "kernelspec": {
   "display_name": "Python 3",
   "language": "python",
   "name": "python3"
  },
  "language_info": {
   "codemirror_mode": {
    "name": "ipython",
    "version": 2
   },
   "file_extension": ".py",
   "mimetype": "text/x-python",
   "name": "python",
   "nbconvert_exporter": "python",
   "pygments_lexer": "ipython2",
   "version": "2.7.6"
  }
 },
 "nbformat": 4,
 "nbformat_minor": 0
}
