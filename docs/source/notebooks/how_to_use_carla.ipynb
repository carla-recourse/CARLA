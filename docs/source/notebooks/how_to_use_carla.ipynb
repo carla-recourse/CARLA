{
 "cells": [
  {
   "cell_type": "markdown",
   "metadata": {
    "collapsed": true,
    "pycharm": {
     "name": "#%% md\n"
    }
   },
   "source": [
    "In the following notebook we will show how you can use the CARLA library."
   ]
  },
  {
   "cell_type": "markdown",
   "metadata": {
    "pycharm": {
     "name": "#%% md\n"
    }
   },
   "source": [
    "# How to use CARLA\n"
   ]
  },
  {
   "cell_type": "code",
   "execution_count": 1,
   "metadata": {
    "pycharm": {
     "name": "#%%\n"
    }
   },
   "outputs": [],
   "source": [
    "from IPython.display import display\n",
    "\n",
    "import warnings\n",
    "warnings.filterwarnings('ignore')"
   ]
  },
  {
   "cell_type": "markdown",
   "metadata": {
    "pycharm": {
     "name": "#%% md\n"
    }
   },
   "source": [
    "## Data\n",
    "\n",
    "Before we can do anything we need some data. Using CARLA, you have several options to handle data.\n",
    "\n",
    "1. You could import one of the datasets from our [OnlineCatalog](https://carla-counterfactual-and-recourse-library.readthedocs.io/en/latest/data.html#module-data.catalog.online_catalog).\n",
    "2. However, you may want to use your own data instead. This can easily be done by using the [CsvCatalog](https://carla-counterfactual-and-recourse-library.readthedocs.io/en/latest/data.html#module-data.catalog.csv_catalog)."
   ]
  },
  {
   "cell_type": "markdown",
   "metadata": {},
   "source": [
    "### Using the <code>OnlineCatalog</code>"
   ]
  },
  {
   "cell_type": "markdown",
   "metadata": {},
   "source": [
    "Using the <code>OnlineCatalog</code> is very easy. Currently, we support four data sets: \"heloc\", \"adult\", \"compas\", and \"give_me_credit\". In the examples below, we will use the adult data set. Below, we demonstrate how you can use the <code>OnlineCatalog</code>."
   ]
  },
  {
   "cell_type": "code",
   "execution_count": 2,
   "metadata": {
    "scrolled": true
   },
   "outputs": [
    {
     "name": "stderr",
     "output_type": "stream",
     "text": [
      "Using TensorFlow backend.\n"
     ]
    },
    {
     "name": "stdout",
     "output_type": "stream",
     "text": [
      "[INFO] Using Python-MIP package version 1.12.0 [model.py <module>]\n",
      "[WARNING] From c:\\users\\fred0\\documents\\carla\\carla\\recourse_methods\\catalog\\focus\\distances.py:2: The name tf.losses.Reduction is deprecated. Please use tf.compat.v1.losses.Reduction instead.\n",
      " [deprecation_wrapper.py __getattr__]\n"
     ]
    }
   ],
   "source": [
    "from carla.data.catalog import OnlineCatalog\n",
    "\n",
    "# load catalog dataset\n",
    "data_name = \"adult\"\n",
    "dataset = OnlineCatalog(data_name)"
   ]
  },
  {
   "cell_type": "markdown",
   "metadata": {},
   "source": [
    "Below, we take a look at how you can add your own data to CARLA."
   ]
  },
  {
   "cell_type": "markdown",
   "metadata": {},
   "source": [
    "### Using the <code>CsvCatalog</code>"
   ]
  },
  {
   "cell_type": "markdown",
   "metadata": {},
   "source": [
    "For the \"CsvCatalog\" there are 5 attributes. The file_path should be the path of the csv file you want to use. Then we have two different types of features, continous and categorical, of which some can be immutable. Finally, the target attribute is the column which contains the targets/labels. For the Adult Income data set, this will be \"Income\", i.e., whether an individual earned more or less than \\$50.000."
   ]
  },
  {
   "cell_type": "markdown",
   "metadata": {},
   "source": [
    "Note that when using the <code>CsvCatalog</code> the data should already be cleaned; e.g., your .csv file should not contain any NaNs. \n",
    "Moreover, also make sure that the categorical variables are binary encoded, i.e., $x_j \\in \\{0,1\\}$, if feature $j$ is a categorical variable (e.g., \"workclass_private\"). We are currently working on extensions to this."
   ]
  },
  {
   "cell_type": "code",
   "execution_count": 3,
   "metadata": {
    "pycharm": {
     "name": "#%%\n"
    }
   },
   "outputs": [
    {
     "data": {
      "text/html": [
       "<div>\n",
       "<style scoped>\n",
       "    .dataframe tbody tr th:only-of-type {\n",
       "        vertical-align: middle;\n",
       "    }\n",
       "\n",
       "    .dataframe tbody tr th {\n",
       "        vertical-align: top;\n",
       "    }\n",
       "\n",
       "    .dataframe thead th {\n",
       "        text-align: right;\n",
       "    }\n",
       "</style>\n",
       "<table border=\"1\" class=\"dataframe\">\n",
       "  <thead>\n",
       "    <tr style=\"text-align: right;\">\n",
       "      <th></th>\n",
       "      <th>age</th>\n",
       "      <th>fnlwgt</th>\n",
       "      <th>education-num</th>\n",
       "      <th>capital-gain</th>\n",
       "      <th>capital-loss</th>\n",
       "      <th>...</th>\n",
       "      <th>occupation_Other</th>\n",
       "      <th>race_White</th>\n",
       "      <th>relationship_Non-Husband</th>\n",
       "      <th>sex_Male</th>\n",
       "      <th>workclass_Private</th>\n",
       "    </tr>\n",
       "  </thead>\n",
       "  <tbody>\n",
       "    <tr>\n",
       "      <th>0</th>\n",
       "      <td>0.301370</td>\n",
       "      <td>0.044131</td>\n",
       "      <td>0.800000</td>\n",
       "      <td>0.02174</td>\n",
       "      <td>0.0</td>\n",
       "      <td>...</td>\n",
       "      <td>0.0</td>\n",
       "      <td>1.0</td>\n",
       "      <td>1.0</td>\n",
       "      <td>1.0</td>\n",
       "      <td>0.0</td>\n",
       "    </tr>\n",
       "    <tr>\n",
       "      <th>1</th>\n",
       "      <td>0.452055</td>\n",
       "      <td>0.048052</td>\n",
       "      <td>0.800000</td>\n",
       "      <td>0.00000</td>\n",
       "      <td>0.0</td>\n",
       "      <td>...</td>\n",
       "      <td>0.0</td>\n",
       "      <td>1.0</td>\n",
       "      <td>0.0</td>\n",
       "      <td>1.0</td>\n",
       "      <td>0.0</td>\n",
       "    </tr>\n",
       "    <tr>\n",
       "      <th>2</th>\n",
       "      <td>0.287671</td>\n",
       "      <td>0.137581</td>\n",
       "      <td>0.533333</td>\n",
       "      <td>0.00000</td>\n",
       "      <td>0.0</td>\n",
       "      <td>...</td>\n",
       "      <td>1.0</td>\n",
       "      <td>1.0</td>\n",
       "      <td>1.0</td>\n",
       "      <td>1.0</td>\n",
       "      <td>1.0</td>\n",
       "    </tr>\n",
       "    <tr>\n",
       "      <th>3</th>\n",
       "      <td>0.493151</td>\n",
       "      <td>0.150486</td>\n",
       "      <td>0.400000</td>\n",
       "      <td>0.00000</td>\n",
       "      <td>0.0</td>\n",
       "      <td>...</td>\n",
       "      <td>1.0</td>\n",
       "      <td>0.0</td>\n",
       "      <td>0.0</td>\n",
       "      <td>1.0</td>\n",
       "      <td>1.0</td>\n",
       "    </tr>\n",
       "    <tr>\n",
       "      <th>4</th>\n",
       "      <td>0.150685</td>\n",
       "      <td>0.220635</td>\n",
       "      <td>0.800000</td>\n",
       "      <td>0.00000</td>\n",
       "      <td>0.0</td>\n",
       "      <td>...</td>\n",
       "      <td>0.0</td>\n",
       "      <td>0.0</td>\n",
       "      <td>1.0</td>\n",
       "      <td>0.0</td>\n",
       "      <td>1.0</td>\n",
       "    </tr>\n",
       "  </tbody>\n",
       "</table>\n",
       "<p>5 rows × 14 columns</p>\n",
       "</div>"
      ],
      "text/plain": [
       "        age    fnlwgt  education-num  capital-gain  capital-loss  ...  \\\n",
       "0  0.301370  0.044131       0.800000       0.02174           0.0  ...   \n",
       "1  0.452055  0.048052       0.800000       0.00000           0.0  ...   \n",
       "2  0.287671  0.137581       0.533333       0.00000           0.0  ...   \n",
       "3  0.493151  0.150486       0.400000       0.00000           0.0  ...   \n",
       "4  0.150685  0.220635       0.800000       0.00000           0.0  ...   \n",
       "\n",
       "   occupation_Other  race_White  relationship_Non-Husband  sex_Male  \\\n",
       "0               0.0         1.0                       1.0       1.0   \n",
       "1               0.0         1.0                       0.0       1.0   \n",
       "2               1.0         1.0                       1.0       1.0   \n",
       "3               1.0         0.0                       0.0       1.0   \n",
       "4               0.0         0.0                       1.0       0.0   \n",
       "\n",
       "   workclass_Private  \n",
       "0                0.0  \n",
       "1                0.0  \n",
       "2                1.0  \n",
       "3                1.0  \n",
       "4                1.0  \n",
       "\n",
       "[5 rows x 14 columns]"
      ]
     },
     "metadata": {},
     "output_type": "display_data"
    }
   ],
   "source": [
    "from carla.data.catalog import CsvCatalog\n",
    "\n",
    "continuous = [\"age\", \"fnlwgt\", \"education-num\", \"capital-gain\", \"hours-per-week\", \"capital-loss\"]\n",
    "categorical = [\"marital-status\", \"native-country\", \"occupation\", \"race\", \"relationship\", \"sex\", \"workclass\"]\n",
    "immutable = [\"age\", \"sex\"]\n",
    "\n",
    "dataset = CsvCatalog(file_path=\"adult.csv\",\n",
    "                     continuous=continuous,\n",
    "                     categorical=categorical,\n",
    "                     immutables=immutable,\n",
    "                     target='income')\n",
    "\n",
    "display(dataset.df.head())"
   ]
  },
  {
   "cell_type": "markdown",
   "metadata": {
    "pycharm": {
     "name": "#%% md\n"
    }
   },
   "source": [
    "## ML Classifier\n",
    "\n",
    "Now that we have the data loaded we also need a classification model. Again, you have two options:\n",
    "\n",
    "1. You can easily define your own model. In our [model documentation](https://carla-counterfactual-and-recourse-library.readthedocs.io/en/latest/examples.html#black-box-model) we describe how you can do that.\n",
    "2. Here we will show how you can train one of our [catalog](https://carla-counterfactual-and-recourse-library.readthedocs.io/en/latest/mlmodel.html#module-models.catalog.catalog) models.\n",
    "Depending on your data and your use-case you might need to tweak the training hyperparameters.\n",
    "\n",
    "For example, for the **ANN** used here we need to define the following hyperparameters:\n",
    "- *learning rate*\n",
    "- *number of epochs*\n",
    "- *batch size*\n",
    "- *sizes of the hidden layers*.\n",
    "\n",
    "After defining the model using the <code>MLModelCatalog</code>, just call the *train* method with those parameters and you are good to go!"
   ]
  },
  {
   "cell_type": "code",
   "execution_count": 4,
   "metadata": {
    "pycharm": {
     "name": "#%%\n"
    }
   },
   "outputs": [],
   "source": [
    "from carla.models.catalog import MLModelCatalog"
   ]
  },
  {
   "cell_type": "code",
   "execution_count": 5,
   "metadata": {
    "pycharm": {
     "name": "#%%\n"
    }
   },
   "outputs": [
    {
     "name": "stdout",
     "output_type": "stream",
     "text": [
      "Loaded model from C:\\Users\\fred0\\carla\\models\\custom\\ann_layers_18_9_3.pt\n",
      "test accuracy for model: 0.8414154652686763\n"
     ]
    }
   ],
   "source": [
    "training_params = {\"lr\": 0.002, \"epochs\": 10, \"batch_size\": 1024, \"hidden_size\": [18, 9, 3]}\n",
    "\n",
    "ml_model = MLModelCatalog(\n",
    "    dataset, \n",
    "    model_type=\"ann\", \n",
    "    load_online=False, \n",
    "    backend=\"pytorch\"\n",
    ")\n",
    "\n",
    "ml_model.train(\n",
    "    learning_rate=training_params[\"lr\"],\n",
    "    epochs=training_params[\"epochs\"],\n",
    "    batch_size=training_params[\"batch_size\"],\n",
    "    hidden_size=training_params[\"hidden_size\"]\n",
    ")"
   ]
  },
  {
   "cell_type": "markdown",
   "metadata": {
    "pycharm": {
     "name": "#%% md\n"
    }
   },
   "source": [
    "## Counterfactual Explanations and Algorithmic Recourse\n",
    "\n",
    "Now that we have both the data, and a model we can start using CARLA to generate counterfactuals. Again, you have two options:\n",
    "\n",
    "1. You can pick a [recourse method](https://carla-counterfactual-and-recourse-library.readthedocs.io/en/latest/recourse.html) from the catalog.\n",
    "2. Or you can implement one yourself using our [recourse interface](https://carla-counterfactual-and-recourse-library.readthedocs.io/en/latest/recourse.html#recourse-api). If you would like to add a new method to the library, just submit a pull-request. :)\n",
    "\n",
    "In the following example, we are getting negatively labeled samples for which we would like to find counterfactuals."
   ]
  },
  {
   "cell_type": "code",
   "execution_count": 6,
   "metadata": {
    "pycharm": {
     "name": "#%%\n"
    }
   },
   "outputs": [],
   "source": [
    "from carla.models.negative_instances import predict_negative_instances\n",
    "import carla.recourse_methods.catalog as recourse_catalog"
   ]
  },
  {
   "cell_type": "code",
   "execution_count": 7,
   "metadata": {
    "pycharm": {
     "name": "#%%\n"
    }
   },
   "outputs": [
    {
     "data": {
      "text/html": [
       "<div>\n",
       "<style scoped>\n",
       "    .dataframe tbody tr th:only-of-type {\n",
       "        vertical-align: middle;\n",
       "    }\n",
       "\n",
       "    .dataframe tbody tr th {\n",
       "        vertical-align: top;\n",
       "    }\n",
       "\n",
       "    .dataframe thead th {\n",
       "        text-align: right;\n",
       "    }\n",
       "</style>\n",
       "<table border=\"1\" class=\"dataframe\">\n",
       "  <thead>\n",
       "    <tr style=\"text-align: right;\">\n",
       "      <th></th>\n",
       "      <th>age</th>\n",
       "      <th>fnlwgt</th>\n",
       "      <th>education-num</th>\n",
       "      <th>capital-gain</th>\n",
       "      <th>capital-loss</th>\n",
       "      <th>...</th>\n",
       "      <th>occupation_Other</th>\n",
       "      <th>race_White</th>\n",
       "      <th>relationship_Non-Husband</th>\n",
       "      <th>sex_Male</th>\n",
       "      <th>workclass_Private</th>\n",
       "    </tr>\n",
       "  </thead>\n",
       "  <tbody>\n",
       "    <tr>\n",
       "      <th>0</th>\n",
       "      <td>0.301370</td>\n",
       "      <td>0.044131</td>\n",
       "      <td>0.800000</td>\n",
       "      <td>0.02174</td>\n",
       "      <td>0.0</td>\n",
       "      <td>...</td>\n",
       "      <td>0.0</td>\n",
       "      <td>1.0</td>\n",
       "      <td>1.0</td>\n",
       "      <td>1.0</td>\n",
       "      <td>0.0</td>\n",
       "    </tr>\n",
       "    <tr>\n",
       "      <th>1</th>\n",
       "      <td>0.452055</td>\n",
       "      <td>0.048052</td>\n",
       "      <td>0.800000</td>\n",
       "      <td>0.00000</td>\n",
       "      <td>0.0</td>\n",
       "      <td>...</td>\n",
       "      <td>0.0</td>\n",
       "      <td>1.0</td>\n",
       "      <td>0.0</td>\n",
       "      <td>1.0</td>\n",
       "      <td>0.0</td>\n",
       "    </tr>\n",
       "    <tr>\n",
       "      <th>2</th>\n",
       "      <td>0.287671</td>\n",
       "      <td>0.137581</td>\n",
       "      <td>0.533333</td>\n",
       "      <td>0.00000</td>\n",
       "      <td>0.0</td>\n",
       "      <td>...</td>\n",
       "      <td>1.0</td>\n",
       "      <td>1.0</td>\n",
       "      <td>1.0</td>\n",
       "      <td>1.0</td>\n",
       "      <td>1.0</td>\n",
       "    </tr>\n",
       "    <tr>\n",
       "      <th>3</th>\n",
       "      <td>0.493151</td>\n",
       "      <td>0.150486</td>\n",
       "      <td>0.400000</td>\n",
       "      <td>0.00000</td>\n",
       "      <td>0.0</td>\n",
       "      <td>...</td>\n",
       "      <td>1.0</td>\n",
       "      <td>0.0</td>\n",
       "      <td>0.0</td>\n",
       "      <td>1.0</td>\n",
       "      <td>1.0</td>\n",
       "    </tr>\n",
       "    <tr>\n",
       "      <th>4</th>\n",
       "      <td>0.150685</td>\n",
       "      <td>0.220635</td>\n",
       "      <td>0.800000</td>\n",
       "      <td>0.00000</td>\n",
       "      <td>0.0</td>\n",
       "      <td>...</td>\n",
       "      <td>0.0</td>\n",
       "      <td>0.0</td>\n",
       "      <td>1.0</td>\n",
       "      <td>0.0</td>\n",
       "      <td>1.0</td>\n",
       "    </tr>\n",
       "  </tbody>\n",
       "</table>\n",
       "<p>5 rows × 14 columns</p>\n",
       "</div>"
      ],
      "text/plain": [
       "        age    fnlwgt  education-num  capital-gain  capital-loss  ...  \\\n",
       "0  0.301370  0.044131       0.800000       0.02174           0.0  ...   \n",
       "1  0.452055  0.048052       0.800000       0.00000           0.0  ...   \n",
       "2  0.287671  0.137581       0.533333       0.00000           0.0  ...   \n",
       "3  0.493151  0.150486       0.400000       0.00000           0.0  ...   \n",
       "4  0.150685  0.220635       0.800000       0.00000           0.0  ...   \n",
       "\n",
       "   occupation_Other  race_White  relationship_Non-Husband  sex_Male  \\\n",
       "0               0.0         1.0                       1.0       1.0   \n",
       "1               0.0         1.0                       0.0       1.0   \n",
       "2               1.0         1.0                       1.0       1.0   \n",
       "3               1.0         0.0                       0.0       1.0   \n",
       "4               0.0         0.0                       1.0       0.0   \n",
       "\n",
       "   workclass_Private  \n",
       "0                0.0  \n",
       "1                0.0  \n",
       "2                1.0  \n",
       "3                1.0  \n",
       "4                1.0  \n",
       "\n",
       "[5 rows x 14 columns]"
      ]
     },
     "metadata": {},
     "output_type": "display_data"
    }
   ],
   "source": [
    "factuals = predict_negative_instances(ml_model, dataset.df)\n",
    "test_factual = factuals.iloc[:5]\n",
    "\n",
    "display(test_factual)"
   ]
  },
  {
   "cell_type": "markdown",
   "metadata": {
    "pycharm": {
     "name": "#%% md\n"
    }
   },
   "source": [
    "### Wachter et al (2018) (gradient method)"
   ]
  },
  {
   "cell_type": "markdown",
   "metadata": {},
   "source": [
    "The recourse objective function looks as follows:\n",
    "\\begin{align}\n",
    "\\delta_x^* & = argmin_{\\delta_x, x+ \\delta_x \\in \\mathcal{A}} \\, \\ell \\big(h(x + \\delta_x), 0.5)\\big) + \\lambda \\cdot \\, d(x + \\delta_x, x), %\\\\\n",
    "\\end{align}\n",
    "where $\\lambda \\geq 0$ is a trade-off parameter, $0.5$ is the probabilistic target, $\\mathcal{A}$ is the feasible set of actions, and $\\ell(\\cdot, \\cdot)$ is the binary-cross-entropy loss. The first term on the right-hand-side ensures that the model prediction corresponding to the counterfactual i.e., $h(x + \\delta_x )$ is close to the favorable outcome with classification prediction $1$. The second term encourages low-cost recourses; for example, Wachter et al (2018) propose $\\ell_1$ or $\\ell_2$ distances to ensure that the distance between the factual instance $x$ and the counterfactual $\\check{x} =  x + \\delta_x^*$ is small."
   ]
  },
  {
   "cell_type": "code",
   "execution_count": 8,
   "metadata": {
    "pycharm": {
     "name": "#%%\n"
    },
    "scrolled": true
   },
   "outputs": [
    {
     "name": "stdout",
     "output_type": "stream",
     "text": [
      "[INFO] Counterfactual Explanation Found [wachter.py wachter_recourse]\n",
      "[INFO] Counterfactual Explanation Found [wachter.py wachter_recourse]\n",
      "[INFO] Counterfactual Explanation Found [wachter.py wachter_recourse]\n",
      "[INFO] Counterfactual Explanation Found [wachter.py wachter_recourse]\n",
      "[INFO] Counterfactual Explanation Found [wachter.py wachter_recourse]\n"
     ]
    },
    {
     "data": {
      "text/html": [
       "<div>\n",
       "<style scoped>\n",
       "    .dataframe tbody tr th:only-of-type {\n",
       "        vertical-align: middle;\n",
       "    }\n",
       "\n",
       "    .dataframe tbody tr th {\n",
       "        vertical-align: top;\n",
       "    }\n",
       "\n",
       "    .dataframe thead th {\n",
       "        text-align: right;\n",
       "    }\n",
       "</style>\n",
       "<table border=\"1\" class=\"dataframe\">\n",
       "  <thead>\n",
       "    <tr style=\"text-align: right;\">\n",
       "      <th></th>\n",
       "      <th>age</th>\n",
       "      <th>capital-gain</th>\n",
       "      <th>capital-loss</th>\n",
       "      <th>education-num</th>\n",
       "      <th>fnlwgt</th>\n",
       "      <th>...</th>\n",
       "      <th>race_White</th>\n",
       "      <th>relationship_Non-Husband</th>\n",
       "      <th>sex_Male</th>\n",
       "      <th>workclass_Private</th>\n",
       "      <th>income</th>\n",
       "    </tr>\n",
       "  </thead>\n",
       "  <tbody>\n",
       "    <tr>\n",
       "      <th>0</th>\n",
       "      <td>0.341076</td>\n",
       "      <td>0.061459</td>\n",
       "      <td>0.039710</td>\n",
       "      <td>0.839714</td>\n",
       "      <td>0.083811</td>\n",
       "      <td>...</td>\n",
       "      <td>1.0</td>\n",
       "      <td>1.0</td>\n",
       "      <td>0.0</td>\n",
       "      <td>0.037467</td>\n",
       "      <td>1.0</td>\n",
       "    </tr>\n",
       "    <tr>\n",
       "      <th>1</th>\n",
       "      <td>0.471990</td>\n",
       "      <td>0.019946</td>\n",
       "      <td>0.019943</td>\n",
       "      <td>0.819944</td>\n",
       "      <td>0.067987</td>\n",
       "      <td>...</td>\n",
       "      <td>1.0</td>\n",
       "      <td>0.0</td>\n",
       "      <td>1.0</td>\n",
       "      <td>0.019928</td>\n",
       "      <td>1.0</td>\n",
       "    </tr>\n",
       "    <tr>\n",
       "      <th>2</th>\n",
       "      <td>0.435641</td>\n",
       "      <td>0.149357</td>\n",
       "      <td>0.149372</td>\n",
       "      <td>0.681845</td>\n",
       "      <td>0.041204</td>\n",
       "      <td>...</td>\n",
       "      <td>0.0</td>\n",
       "      <td>1.0</td>\n",
       "      <td>0.0</td>\n",
       "      <td>0.851989</td>\n",
       "      <td>1.0</td>\n",
       "    </tr>\n",
       "    <tr>\n",
       "      <th>3</th>\n",
       "      <td>0.552305</td>\n",
       "      <td>0.059178</td>\n",
       "      <td>0.059163</td>\n",
       "      <td>0.459171</td>\n",
       "      <td>0.209380</td>\n",
       "      <td>...</td>\n",
       "      <td>0.0</td>\n",
       "      <td>0.0</td>\n",
       "      <td>1.0</td>\n",
       "      <td>0.940863</td>\n",
       "      <td>1.0</td>\n",
       "    </tr>\n",
       "    <tr>\n",
       "      <th>4</th>\n",
       "      <td>0.276991</td>\n",
       "      <td>0.126107</td>\n",
       "      <td>0.126601</td>\n",
       "      <td>0.925433</td>\n",
       "      <td>0.154797</td>\n",
       "      <td>...</td>\n",
       "      <td>0.0</td>\n",
       "      <td>1.0</td>\n",
       "      <td>0.0</td>\n",
       "      <td>0.875522</td>\n",
       "      <td>1.0</td>\n",
       "    </tr>\n",
       "  </tbody>\n",
       "</table>\n",
       "<p>5 rows × 14 columns</p>\n",
       "</div>"
      ],
      "text/plain": [
       "        age  capital-gain  capital-loss  education-num    fnlwgt  ...  \\\n",
       "0  0.341076      0.061459      0.039710       0.839714  0.083811  ...   \n",
       "1  0.471990      0.019946      0.019943       0.819944  0.067987  ...   \n",
       "2  0.435641      0.149357      0.149372       0.681845  0.041204  ...   \n",
       "3  0.552305      0.059178      0.059163       0.459171  0.209380  ...   \n",
       "4  0.276991      0.126107      0.126601       0.925433  0.154797  ...   \n",
       "\n",
       "   race_White  relationship_Non-Husband  sex_Male  workclass_Private  income  \n",
       "0         1.0                       1.0       0.0           0.037467     1.0  \n",
       "1         1.0                       0.0       1.0           0.019928     1.0  \n",
       "2         0.0                       1.0       0.0           0.851989     1.0  \n",
       "3         0.0                       0.0       1.0           0.940863     1.0  \n",
       "4         0.0                       1.0       0.0           0.875522     1.0  \n",
       "\n",
       "[5 rows x 14 columns]"
      ]
     },
     "metadata": {},
     "output_type": "display_data"
    }
   ],
   "source": [
    "hyperparams = {\"loss_type\": \"BCE\", \"binary_cat_features\": False}\n",
    "recourse_method = recourse_catalog.Wachter(ml_model, hyperparams)\n",
    "df_cfs = recourse_method.get_counterfactuals(test_factual)\n",
    "\n",
    "display(df_cfs)"
   ]
  },
  {
   "cell_type": "markdown",
   "metadata": {
    "pycharm": {
     "name": "#%% md\n"
    }
   },
   "source": [
    "### CCHVAE by Pawelczyk et al (2020) (manifold method)"
   ]
  },
  {
   "cell_type": "markdown",
   "metadata": {},
   "source": [
    "Let $g: \\mathcal{Z} \\to \\mathcal{X}$ be the decoder of a generative model (e.g., VAE). Let $e: \\mathcal{X} \\to \\mathcal{Z}$ be the correpsonding encoder. We then encode the factual input x, for which we wish to find a counterfactual explanation, as follows:  $e(x)=z$, and conduct the search in the latent space.\n",
    "Manifold-based methods solve an objective function that looks as follows:\n",
    "\\begin{align}\n",
    "\\delta_z^* & = argmin_{\\delta_z, g(z + \\delta_z) \\in \\mathcal{A}} \\, \\ell \\big(h(g(z + \\delta_z), 0.5)\\big) + \\cdot \\, d(z + \\delta_z, z), %\\\\\n",
    "\\label{eq:wachter}\n",
    "\\end{align}\n",
    "where $\\lambda \\geq 0$ is a trade-off parameter, $0.5$ is the probabilistic target,\n",
    "and $\\ell(\\cdot, \\cdot)$ is the binary-cross-entropy loss, and  $\\mathcal{A}$ is the feasible set of actions. The first term on the right-hand-side ensures that the model prediction corresponding to the counterfactual i.e., $h(g(z + \\delta_z))$ is close to the favorable outcome with classification label $1$. The second term encourages low-cost recourses;\n",
    "\n",
    "For example, Pawelczyk et al (2020) use random search in the latent space to approximate the above objective function, while Joshi et al (2019) use a gradient-based algorithm on a variant of the above objective function. We refer to the respective papers for more details"
   ]
  },
  {
   "cell_type": "code",
   "execution_count": 9,
   "metadata": {
    "pycharm": {
     "name": "#%%\n"
    }
   },
   "outputs": [
    {
     "name": "stdout",
     "output_type": "stream",
     "text": [
      "[INFO] Start training of Variational Autoencoder... [models.py fit]\n",
      "[INFO] [Epoch: 0/5] [objective: 0.381] [models.py fit]\n",
      "[INFO] [ELBO train: 0.38] [models.py fit]\n",
      "[INFO] [ELBO train: 0.14] [models.py fit]\n",
      "[INFO] [ELBO train: 0.12] [models.py fit]\n",
      "[INFO] [ELBO train: 0.12] [models.py fit]\n",
      "[INFO] [ELBO train: 0.12] [models.py fit]\n",
      "[INFO] ... finished training of Variational Autoencoder. [models.py fit]\n"
     ]
    },
    {
     "data": {
      "text/html": [
       "<div>\n",
       "<style scoped>\n",
       "    .dataframe tbody tr th:only-of-type {\n",
       "        vertical-align: middle;\n",
       "    }\n",
       "\n",
       "    .dataframe tbody tr th {\n",
       "        vertical-align: top;\n",
       "    }\n",
       "\n",
       "    .dataframe thead th {\n",
       "        text-align: right;\n",
       "    }\n",
       "</style>\n",
       "<table border=\"1\" class=\"dataframe\">\n",
       "  <thead>\n",
       "    <tr style=\"text-align: right;\">\n",
       "      <th></th>\n",
       "      <th>age</th>\n",
       "      <th>capital-gain</th>\n",
       "      <th>capital-loss</th>\n",
       "      <th>education-num</th>\n",
       "      <th>fnlwgt</th>\n",
       "      <th>...</th>\n",
       "      <th>race_White</th>\n",
       "      <th>relationship_Non-Husband</th>\n",
       "      <th>sex_Male</th>\n",
       "      <th>workclass_Private</th>\n",
       "      <th>income</th>\n",
       "    </tr>\n",
       "  </thead>\n",
       "  <tbody>\n",
       "    <tr>\n",
       "      <th>0</th>\n",
       "      <td>0.296056</td>\n",
       "      <td>0.036247</td>\n",
       "      <td>0.039690</td>\n",
       "      <td>0.601053</td>\n",
       "      <td>0.120308</td>\n",
       "      <td>...</td>\n",
       "      <td>1.0</td>\n",
       "      <td>0.0</td>\n",
       "      <td>1.0</td>\n",
       "      <td>0.737635</td>\n",
       "      <td>1.0</td>\n",
       "    </tr>\n",
       "    <tr>\n",
       "      <th>1</th>\n",
       "      <td>0.296061</td>\n",
       "      <td>0.036247</td>\n",
       "      <td>0.039689</td>\n",
       "      <td>0.601050</td>\n",
       "      <td>0.120308</td>\n",
       "      <td>...</td>\n",
       "      <td>1.0</td>\n",
       "      <td>0.0</td>\n",
       "      <td>1.0</td>\n",
       "      <td>0.737636</td>\n",
       "      <td>1.0</td>\n",
       "    </tr>\n",
       "    <tr>\n",
       "      <th>2</th>\n",
       "      <td>0.296058</td>\n",
       "      <td>0.036248</td>\n",
       "      <td>0.039689</td>\n",
       "      <td>0.601050</td>\n",
       "      <td>0.120308</td>\n",
       "      <td>...</td>\n",
       "      <td>1.0</td>\n",
       "      <td>0.0</td>\n",
       "      <td>1.0</td>\n",
       "      <td>0.737637</td>\n",
       "      <td>1.0</td>\n",
       "    </tr>\n",
       "    <tr>\n",
       "      <th>3</th>\n",
       "      <td>0.296058</td>\n",
       "      <td>0.036247</td>\n",
       "      <td>0.039690</td>\n",
       "      <td>0.601051</td>\n",
       "      <td>0.120308</td>\n",
       "      <td>...</td>\n",
       "      <td>1.0</td>\n",
       "      <td>0.0</td>\n",
       "      <td>1.0</td>\n",
       "      <td>0.737637</td>\n",
       "      <td>1.0</td>\n",
       "    </tr>\n",
       "    <tr>\n",
       "      <th>4</th>\n",
       "      <td>0.296059</td>\n",
       "      <td>0.036248</td>\n",
       "      <td>0.039689</td>\n",
       "      <td>0.601049</td>\n",
       "      <td>0.120308</td>\n",
       "      <td>...</td>\n",
       "      <td>1.0</td>\n",
       "      <td>0.0</td>\n",
       "      <td>1.0</td>\n",
       "      <td>0.737638</td>\n",
       "      <td>1.0</td>\n",
       "    </tr>\n",
       "  </tbody>\n",
       "</table>\n",
       "<p>5 rows × 14 columns</p>\n",
       "</div>"
      ],
      "text/plain": [
       "        age  capital-gain  capital-loss  education-num    fnlwgt  ...  \\\n",
       "0  0.296056      0.036247      0.039690       0.601053  0.120308  ...   \n",
       "1  0.296061      0.036247      0.039689       0.601050  0.120308  ...   \n",
       "2  0.296058      0.036248      0.039689       0.601050  0.120308  ...   \n",
       "3  0.296058      0.036247      0.039690       0.601051  0.120308  ...   \n",
       "4  0.296059      0.036248      0.039689       0.601049  0.120308  ...   \n",
       "\n",
       "   race_White  relationship_Non-Husband  sex_Male  workclass_Private  income  \n",
       "0         1.0                       0.0       1.0           0.737635     1.0  \n",
       "1         1.0                       0.0       1.0           0.737636     1.0  \n",
       "2         1.0                       0.0       1.0           0.737637     1.0  \n",
       "3         1.0                       0.0       1.0           0.737637     1.0  \n",
       "4         1.0                       0.0       1.0           0.737638     1.0  \n",
       "\n",
       "[5 rows x 14 columns]"
      ]
     },
     "metadata": {},
     "output_type": "display_data"
    }
   ],
   "source": [
    "hyperparams = {\n",
    "    \"data_name\": dataset.name,\n",
    "    \"n_search_samples\": 100,\n",
    "    \"p_norm\": 1,\n",
    "    \"step\": 0.1,\n",
    "    \"max_iter\": 1000,\n",
    "    \"clamp\": True,\n",
    "    \"binary_cat_features\": False,\n",
    "    \"vae_params\": {\n",
    "        \"layers\": [len(ml_model.feature_input_order), 512, 256, 8],\n",
    "        \"train\": True,\n",
    "        \"lambda_reg\": 1e-6,\n",
    "        \"epochs\": 5,\n",
    "        \"lr\": 1e-3,\n",
    "        \"batch_size\": 32,\n",
    "    },\n",
    "}\n",
    "\n",
    "cchvae = recourse_catalog.CCHVAE(ml_model, hyperparams)\n",
    "df_cfs = cchvae.get_counterfactuals(test_factual)\n",
    "\n",
    "display(df_cfs)"
   ]
  },
  {
   "cell_type": "markdown",
   "metadata": {
    "pycharm": {
     "name": "#%% md\n"
    }
   },
   "source": [
    "### FOCUS by Lucic et al (2021) (tree method)\n",
    "\n",
    "Our library also supports sklearn and xgboost tree-based classifiers such as *Random Forests*, *Decision Trees* or *Gradient Boosted Decision Trees*.\n",
    "Those classifiers are needed for methods, which explicitly require the use of tree models (e.g., FeatureTweak and FOCUS)."
   ]
  },
  {
   "cell_type": "code",
   "execution_count": 10,
   "metadata": {
    "pycharm": {
     "name": "#%%\n"
    }
   },
   "outputs": [
    {
     "name": "stdout",
     "output_type": "stream",
     "text": [
      "[0]\tvalidation_0-logloss:0.58281\tvalidation_1-logloss:0.58635\n",
      "[1]\tvalidation_0-logloss:0.52201\tvalidation_1-logloss:0.52660\n",
      "[2]\tvalidation_0-logloss:0.48373\tvalidation_1-logloss:0.48970\n",
      "[3]\tvalidation_0-logloss:0.45787\tvalidation_1-logloss:0.46419\n",
      "[4]\tvalidation_0-logloss:0.43901\tvalidation_1-logloss:0.44431\n"
     ]
    },
    {
     "data": {
      "text/html": [
       "<div>\n",
       "<style scoped>\n",
       "    .dataframe tbody tr th:only-of-type {\n",
       "        vertical-align: middle;\n",
       "    }\n",
       "\n",
       "    .dataframe tbody tr th {\n",
       "        vertical-align: top;\n",
       "    }\n",
       "\n",
       "    .dataframe thead th {\n",
       "        text-align: right;\n",
       "    }\n",
       "</style>\n",
       "<table border=\"1\" class=\"dataframe\">\n",
       "  <thead>\n",
       "    <tr style=\"text-align: right;\">\n",
       "      <th></th>\n",
       "      <th>age</th>\n",
       "      <th>fnlwgt</th>\n",
       "      <th>education-num</th>\n",
       "      <th>capital-gain</th>\n",
       "      <th>capital-loss</th>\n",
       "      <th>...</th>\n",
       "      <th>occupation_Other</th>\n",
       "      <th>race_White</th>\n",
       "      <th>relationship_Non-Husband</th>\n",
       "      <th>sex_Male</th>\n",
       "      <th>workclass_Private</th>\n",
       "    </tr>\n",
       "  </thead>\n",
       "  <tbody>\n",
       "    <tr>\n",
       "      <th>0</th>\n",
       "      <td>0.301370</td>\n",
       "      <td>0.044131</td>\n",
       "      <td>0.800000</td>\n",
       "      <td>0.02174</td>\n",
       "      <td>0.0</td>\n",
       "      <td>...</td>\n",
       "      <td>0.0</td>\n",
       "      <td>1.0</td>\n",
       "      <td>1.0</td>\n",
       "      <td>1.0</td>\n",
       "      <td>0.0</td>\n",
       "    </tr>\n",
       "    <tr>\n",
       "      <th>1</th>\n",
       "      <td>0.452055</td>\n",
       "      <td>0.048052</td>\n",
       "      <td>0.800000</td>\n",
       "      <td>0.00000</td>\n",
       "      <td>0.0</td>\n",
       "      <td>...</td>\n",
       "      <td>0.0</td>\n",
       "      <td>1.0</td>\n",
       "      <td>0.0</td>\n",
       "      <td>1.0</td>\n",
       "      <td>0.0</td>\n",
       "    </tr>\n",
       "    <tr>\n",
       "      <th>2</th>\n",
       "      <td>0.287671</td>\n",
       "      <td>0.137581</td>\n",
       "      <td>0.533333</td>\n",
       "      <td>0.00000</td>\n",
       "      <td>0.0</td>\n",
       "      <td>...</td>\n",
       "      <td>1.0</td>\n",
       "      <td>1.0</td>\n",
       "      <td>1.0</td>\n",
       "      <td>1.0</td>\n",
       "      <td>1.0</td>\n",
       "    </tr>\n",
       "    <tr>\n",
       "      <th>3</th>\n",
       "      <td>0.493151</td>\n",
       "      <td>0.150486</td>\n",
       "      <td>0.400000</td>\n",
       "      <td>0.00000</td>\n",
       "      <td>0.0</td>\n",
       "      <td>...</td>\n",
       "      <td>1.0</td>\n",
       "      <td>0.0</td>\n",
       "      <td>0.0</td>\n",
       "      <td>1.0</td>\n",
       "      <td>1.0</td>\n",
       "    </tr>\n",
       "    <tr>\n",
       "      <th>4</th>\n",
       "      <td>0.150685</td>\n",
       "      <td>0.220635</td>\n",
       "      <td>0.800000</td>\n",
       "      <td>0.00000</td>\n",
       "      <td>0.0</td>\n",
       "      <td>...</td>\n",
       "      <td>0.0</td>\n",
       "      <td>0.0</td>\n",
       "      <td>1.0</td>\n",
       "      <td>0.0</td>\n",
       "      <td>1.0</td>\n",
       "    </tr>\n",
       "  </tbody>\n",
       "</table>\n",
       "<p>5 rows × 14 columns</p>\n",
       "</div>"
      ],
      "text/plain": [
       "        age    fnlwgt  education-num  capital-gain  capital-loss  ...  \\\n",
       "0  0.301370  0.044131       0.800000       0.02174           0.0  ...   \n",
       "1  0.452055  0.048052       0.800000       0.00000           0.0  ...   \n",
       "2  0.287671  0.137581       0.533333       0.00000           0.0  ...   \n",
       "3  0.493151  0.150486       0.400000       0.00000           0.0  ...   \n",
       "4  0.150685  0.220635       0.800000       0.00000           0.0  ...   \n",
       "\n",
       "   occupation_Other  race_White  relationship_Non-Husband  sex_Male  \\\n",
       "0               0.0         1.0                       1.0       1.0   \n",
       "1               0.0         1.0                       0.0       1.0   \n",
       "2               1.0         1.0                       1.0       1.0   \n",
       "3               1.0         0.0                       0.0       1.0   \n",
       "4               0.0         0.0                       1.0       0.0   \n",
       "\n",
       "   workclass_Private  \n",
       "0                0.0  \n",
       "1                0.0  \n",
       "2                1.0  \n",
       "3                1.0  \n",
       "4                1.0  \n",
       "\n",
       "[5 rows x 14 columns]"
      ]
     },
     "metadata": {},
     "output_type": "display_data"
    }
   ],
   "source": [
    "from carla.recourse_methods.catalog.focus.tree_model import ForestModel, XGBoostModel\n",
    "ml_model = XGBoostModel(dataset)\n",
    "\n",
    "factuals = predict_negative_instances(ml_model, dataset.df)\n",
    "test_factual = factuals.iloc[:5]\n",
    "\n",
    "display(test_factual)"
   ]
  },
  {
   "cell_type": "markdown",
   "metadata": {},
   "source": [
    "Below we start generating counterfactuals using FOCUS."
   ]
  },
  {
   "cell_type": "code",
   "execution_count": 11,
   "metadata": {
    "pycharm": {
     "name": "#%%\n"
    }
   },
   "outputs": [
    {
     "name": "stdout",
     "output_type": "stream",
     "text": [
      "[WARNING] From c:\\users\\fred0\\documents\\carla\\carla\\recourse_methods\\catalog\\focus\\model.py:112: The name tf.train.AdamOptimizer is deprecated. Please use tf.compat.v1.train.AdamOptimizer instead.\n",
      " [deprecation_wrapper.py __getattr__]\n",
      "[WARNING] From c:\\users\\fred0\\documents\\carla\\carla\\recourse_methods\\catalog\\focus\\model.py:221: The name tf.Session is deprecated. Please use tf.compat.v1.Session instead.\n",
      " [deprecation_wrapper.py __getattr__]\n",
      "[WARNING] From C:\\Users\\fred0\\Anaconda3\\lib\\site-packages\\tensorflow\\python\\ops\\array_ops.py:1354: add_dispatch_support.<locals>.wrapper (from tensorflow.python.ops.array_ops) is deprecated and will be removed in a future version.\n",
      "Instructions for updating:\n",
      "Use tf.where in 2.0, which has the same broadcast rule as np.where [deprecation.py new_func]\n",
      "[WARNING] Calling GradientTape.gradient on a persistent tape inside its context is significantly less efficient than calling it outside the context (it causes the gradient ops to be recorded on the tape, leading to increased CPU and memory usage). Only call GradientTape.gradient inside the context if you actually want to trace the gradient in order to compute higher order derivatives. [backprop.py gradient]\n",
      "[WARNING] From c:\\users\\fred0\\documents\\carla\\carla\\recourse_methods\\catalog\\focus\\model.py:185: The name tf.train.get_or_create_global_step is deprecated. Please use tf.compat.v1.train.get_or_create_global_step instead.\n",
      " [deprecation_wrapper.py __getattr__]\n",
      "[WARNING] From c:\\users\\fred0\\documents\\carla\\carla\\recourse_methods\\catalog\\focus\\model.py:188: The name tf.assign is deprecated. Please use tf.compat.v1.assign instead.\n",
      " [deprecation_wrapper.py __getattr__]\n"
     ]
    },
    {
     "data": {
      "text/html": [
       "<div>\n",
       "<style scoped>\n",
       "    .dataframe tbody tr th:only-of-type {\n",
       "        vertical-align: middle;\n",
       "    }\n",
       "\n",
       "    .dataframe tbody tr th {\n",
       "        vertical-align: top;\n",
       "    }\n",
       "\n",
       "    .dataframe thead th {\n",
       "        text-align: right;\n",
       "    }\n",
       "</style>\n",
       "<table border=\"1\" class=\"dataframe\">\n",
       "  <thead>\n",
       "    <tr style=\"text-align: right;\">\n",
       "      <th></th>\n",
       "      <th>age</th>\n",
       "      <th>fnlwgt</th>\n",
       "      <th>education-num</th>\n",
       "      <th>capital-gain</th>\n",
       "      <th>hours-per-week</th>\n",
       "      <th>capital-loss</th>\n",
       "    </tr>\n",
       "  </thead>\n",
       "  <tbody>\n",
       "    <tr>\n",
       "      <th>0</th>\n",
       "      <td>0.301443</td>\n",
       "      <td>0.044131</td>\n",
       "      <td>0.800003</td>\n",
       "      <td>0.051235</td>\n",
       "      <td>0.398013</td>\n",
       "      <td>0.0</td>\n",
       "    </tr>\n",
       "    <tr>\n",
       "      <th>1</th>\n",
       "      <td>0.452152</td>\n",
       "      <td>0.048052</td>\n",
       "      <td>0.799976</td>\n",
       "      <td>0.051206</td>\n",
       "      <td>0.122428</td>\n",
       "      <td>0.0</td>\n",
       "    </tr>\n",
       "    <tr>\n",
       "      <th>2</th>\n",
       "      <td>0.287656</td>\n",
       "      <td>0.137581</td>\n",
       "      <td>0.533235</td>\n",
       "      <td>0.051204</td>\n",
       "      <td>0.397913</td>\n",
       "      <td>0.0</td>\n",
       "    </tr>\n",
       "    <tr>\n",
       "      <th>3</th>\n",
       "      <td>0.493167</td>\n",
       "      <td>0.150486</td>\n",
       "      <td>0.399988</td>\n",
       "      <td>0.051275</td>\n",
       "      <td>0.397919</td>\n",
       "      <td>0.0</td>\n",
       "    </tr>\n",
       "    <tr>\n",
       "      <th>4</th>\n",
       "      <td>0.157640</td>\n",
       "      <td>0.220635</td>\n",
       "      <td>0.799542</td>\n",
       "      <td>0.051570</td>\n",
       "      <td>0.398128</td>\n",
       "      <td>0.0</td>\n",
       "    </tr>\n",
       "  </tbody>\n",
       "</table>\n",
       "</div>"
      ],
      "text/plain": [
       "        age    fnlwgt  education-num  capital-gain  hours-per-week  \\\n",
       "0  0.301443  0.044131       0.800003      0.051235        0.398013   \n",
       "1  0.452152  0.048052       0.799976      0.051206        0.122428   \n",
       "2  0.287656  0.137581       0.533235      0.051204        0.397913   \n",
       "3  0.493167  0.150486       0.399988      0.051275        0.397919   \n",
       "4  0.157640  0.220635       0.799542      0.051570        0.398128   \n",
       "\n",
       "   capital-loss  \n",
       "0           0.0  \n",
       "1           0.0  \n",
       "2           0.0  \n",
       "3           0.0  \n",
       "4           0.0  "
      ]
     },
     "metadata": {},
     "output_type": "display_data"
    }
   ],
   "source": [
    "hyperparams = {\n",
    "    \"optimizer\": \"adam\",\n",
    "    \"lr\": 0.001,\n",
    "    \"n_class\": 2,\n",
    "    \"n_iter\": 1000,\n",
    "    \"sigma\": 1.0,\n",
    "    \"temperature\": 1.0,\n",
    "    \"distance_weight\": 0.01,\n",
    "    \"distance_func\": \"l1\",\n",
    "}\n",
    "\n",
    "focus = recourse_catalog.FOCUS(ml_model, hyperparams)\n",
    "df_cfs = focus.get_counterfactuals(test_factual)\n",
    "display(df_cfs)"
   ]
  },
  {
   "cell_type": "code",
   "execution_count": null,
   "metadata": {
    "pycharm": {
     "name": "#%%\n"
    }
   },
   "outputs": [],
   "source": []
  }
 ],
 "metadata": {
  "kernelspec": {
   "display_name": "Python 3",
   "language": "python",
   "name": "python3"
  },
  "language_info": {
   "codemirror_mode": {
    "name": "ipython",
    "version": 3
   },
   "file_extension": ".py",
   "mimetype": "text/x-python",
   "name": "python",
   "nbconvert_exporter": "python",
   "pygments_lexer": "ipython3",
   "version": "3.6.8"
  }
 },
 "nbformat": 4,
 "nbformat_minor": 1
}
