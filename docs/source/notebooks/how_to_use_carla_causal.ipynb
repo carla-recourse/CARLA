{
 "cells": [
  {
   "cell_type": "markdown",
   "metadata": {
    "collapsed": true,
    "pycharm": {
     "name": "#%% md\n"
    }
   },
   "source": [
    "In the following notebook we will show how you can use the CARLA library for causal recourse methods."
   ]
  },
  {
   "cell_type": "markdown",
   "source": [
    "# Causal Recourse\n",
    "\n",
    "## Data\n",
    "\n",
    "Before we can do anything else we need some data, and more importantly a data generating process.\n",
    "We define this process by the Structural Causal Equations (SCM).\n",
    "In CARLA can be easily done by just calling the *CausalModel* class with the name of the SCM you want to use.\n",
    "Note that you can add your own SCM's by adding it's name to the *scm_dict* in carla/data/load_scm/load_scm and defining the equations in carla/data/load_scm/scm."
   ],
   "metadata": {
    "collapsed": false,
    "pycharm": {
     "name": "#%% md\n"
    }
   }
  },
  {
   "cell_type": "code",
   "execution_count": 1,
   "outputs": [
    {
     "name": "stderr",
     "output_type": "stream",
     "text": [
      "Using TensorFlow backend.\n"
     ]
    },
    {
     "name": "stdout",
     "output_type": "stream",
     "text": [
      "[INFO] Using Python-MIP package version 1.12.0 [model.py <module>]\n",
      "[WARNING] From /home/johan/Dropbox/Documents/Master/HiWi/CARLA/carla/recourse_methods/catalog/focus/distances.py:2: The name tf.losses.Reduction is deprecated. Please use tf.compat.v1.losses.Reduction instead.\n",
      " [deprecation_wrapper.py __getattr__]\n"
     ]
    }
   ],
   "source": [
    "from IPython.display import display\n",
    "\n",
    "import warnings\n",
    "warnings.filterwarnings('ignore')\n",
    "\n",
    "from carla.data.causal_model import CausalModel"
   ],
   "metadata": {
    "collapsed": false,
    "pycharm": {
     "name": "#%%\n"
    }
   }
  },
  {
   "cell_type": "code",
   "execution_count": 2,
   "outputs": [
    {
     "data": {
      "text/plain": "      label        x1        x2        x3\n0       0.0 -2.170740  1.611900 -0.000079\n1       0.0  2.367498 -2.104416 -0.248596\n2       0.0  1.684761 -2.919451 -1.002269\n3       1.0 -2.192833  2.875651  0.526477\n4       1.0  3.333677 -3.877350 -1.312688\n...     ...       ...       ...       ...\n9995    1.0 -1.267951  0.954710 -0.558307\n9996    1.0  2.450825 -1.657112  0.300450\n9997    0.0  1.721105 -1.271317 -0.649411\n9998    0.0  0.881236 -1.813018  0.295015\n9999    0.0 -1.704380  1.651801 -1.261734\n\n[10000 rows x 4 columns]",
      "text/html": "<div>\n<style scoped>\n    .dataframe tbody tr th:only-of-type {\n        vertical-align: middle;\n    }\n\n    .dataframe tbody tr th {\n        vertical-align: top;\n    }\n\n    .dataframe thead th {\n        text-align: right;\n    }\n</style>\n<table border=\"1\" class=\"dataframe\">\n  <thead>\n    <tr style=\"text-align: right;\">\n      <th></th>\n      <th>label</th>\n      <th>x1</th>\n      <th>x2</th>\n      <th>x3</th>\n    </tr>\n  </thead>\n  <tbody>\n    <tr>\n      <th>0</th>\n      <td>0.0</td>\n      <td>-2.170740</td>\n      <td>1.611900</td>\n      <td>-0.000079</td>\n    </tr>\n    <tr>\n      <th>1</th>\n      <td>0.0</td>\n      <td>2.367498</td>\n      <td>-2.104416</td>\n      <td>-0.248596</td>\n    </tr>\n    <tr>\n      <th>2</th>\n      <td>0.0</td>\n      <td>1.684761</td>\n      <td>-2.919451</td>\n      <td>-1.002269</td>\n    </tr>\n    <tr>\n      <th>3</th>\n      <td>1.0</td>\n      <td>-2.192833</td>\n      <td>2.875651</td>\n      <td>0.526477</td>\n    </tr>\n    <tr>\n      <th>4</th>\n      <td>1.0</td>\n      <td>3.333677</td>\n      <td>-3.877350</td>\n      <td>-1.312688</td>\n    </tr>\n    <tr>\n      <th>...</th>\n      <td>...</td>\n      <td>...</td>\n      <td>...</td>\n      <td>...</td>\n    </tr>\n    <tr>\n      <th>9995</th>\n      <td>1.0</td>\n      <td>-1.267951</td>\n      <td>0.954710</td>\n      <td>-0.558307</td>\n    </tr>\n    <tr>\n      <th>9996</th>\n      <td>1.0</td>\n      <td>2.450825</td>\n      <td>-1.657112</td>\n      <td>0.300450</td>\n    </tr>\n    <tr>\n      <th>9997</th>\n      <td>0.0</td>\n      <td>1.721105</td>\n      <td>-1.271317</td>\n      <td>-0.649411</td>\n    </tr>\n    <tr>\n      <th>9998</th>\n      <td>0.0</td>\n      <td>0.881236</td>\n      <td>-1.813018</td>\n      <td>0.295015</td>\n    </tr>\n    <tr>\n      <th>9999</th>\n      <td>0.0</td>\n      <td>-1.704380</td>\n      <td>1.651801</td>\n      <td>-1.261734</td>\n    </tr>\n  </tbody>\n</table>\n<p>10000 rows × 4 columns</p>\n</div>"
     },
     "metadata": {},
     "output_type": "display_data"
    }
   ],
   "source": [
    "scm = CausalModel(\"sanity-3-lin\")\n",
    "dataset = scm.generate_dataset(10000)\n",
    "\n",
    "display(dataset.df)"
   ],
   "metadata": {
    "collapsed": false,
    "pycharm": {
     "name": "#%%\n"
    }
   }
  },
  {
   "cell_type": "code",
   "execution_count": 3,
   "outputs": [
    {
     "data": {
      "text/plain": "<graphviz.dot.Digraph at 0x7fc4aaa8aad0>",
      "image/svg+xml": "<?xml version=\"1.0\" encoding=\"UTF-8\" standalone=\"no\"?>\n<!DOCTYPE svg PUBLIC \"-//W3C//DTD SVG 1.1//EN\"\n \"http://www.w3.org/Graphics/SVG/1.1/DTD/svg11.dtd\">\n<!-- Generated by graphviz version 2.43.0 (0)\n -->\n<!-- Title: %3 Pages: 1 -->\n<svg width=\"89pt\" height=\"188pt\"\n viewBox=\"0.00 0.00 89.00 188.00\" xmlns=\"http://www.w3.org/2000/svg\" xmlns:xlink=\"http://www.w3.org/1999/xlink\">\n<g id=\"graph0\" class=\"graph\" transform=\"scale(1 1) rotate(0) translate(4 184)\">\n<title>%3</title>\n<polygon fill=\"white\" stroke=\"transparent\" points=\"-4,4 -4,-184 85,-184 85,4 -4,4\"/>\n<!-- x1 -->\n<g id=\"node1\" class=\"node\">\n<title>x1</title>\n<ellipse fill=\"none\" stroke=\"black\" cx=\"54\" cy=\"-162\" rx=\"27\" ry=\"18\"/>\n<text text-anchor=\"middle\" x=\"54\" y=\"-158.3\" font-family=\"Times,serif\" font-size=\"14.00\">x1</text>\n</g>\n<!-- x2 -->\n<g id=\"node2\" class=\"node\">\n<title>x2</title>\n<ellipse fill=\"none\" stroke=\"black\" cx=\"27\" cy=\"-90\" rx=\"27\" ry=\"18\"/>\n<text text-anchor=\"middle\" x=\"27\" y=\"-86.3\" font-family=\"Times,serif\" font-size=\"14.00\">x2</text>\n</g>\n<!-- x1&#45;&gt;x2 -->\n<g id=\"edge1\" class=\"edge\">\n<title>x1&#45;&gt;x2</title>\n<path fill=\"none\" stroke=\"black\" d=\"M47.6,-144.41C44.49,-136.34 40.67,-126.43 37.17,-117.35\"/>\n<polygon fill=\"black\" stroke=\"black\" points=\"40.4,-116.03 33.54,-107.96 33.87,-118.55 40.4,-116.03\"/>\n</g>\n<!-- x3 -->\n<g id=\"node3\" class=\"node\">\n<title>x3</title>\n<ellipse fill=\"none\" stroke=\"black\" cx=\"54\" cy=\"-18\" rx=\"27\" ry=\"18\"/>\n<text text-anchor=\"middle\" x=\"54\" y=\"-14.3\" font-family=\"Times,serif\" font-size=\"14.00\">x3</text>\n</g>\n<!-- x1&#45;&gt;x3 -->\n<g id=\"edge2\" class=\"edge\">\n<title>x1&#45;&gt;x3</title>\n<path fill=\"none\" stroke=\"black\" d=\"M57.65,-143.91C59.68,-133.57 61.98,-120.09 63,-108 64.34,-92.06 64.34,-87.94 63,-72 62.28,-63.5 60.93,-54.31 59.49,-46.01\"/>\n<polygon fill=\"black\" stroke=\"black\" points=\"62.91,-45.29 57.65,-36.09 56.03,-46.56 62.91,-45.29\"/>\n</g>\n<!-- x2&#45;&gt;x3 -->\n<g id=\"edge3\" class=\"edge\">\n<title>x2&#45;&gt;x3</title>\n<path fill=\"none\" stroke=\"black\" d=\"M33.4,-72.41C36.51,-64.34 40.33,-54.43 43.83,-45.35\"/>\n<polygon fill=\"black\" stroke=\"black\" points=\"47.13,-46.55 47.46,-35.96 40.6,-44.03 47.13,-46.55\"/>\n</g>\n</g>\n</svg>\n"
     },
     "execution_count": 3,
     "metadata": {},
     "output_type": "execute_result"
    }
   ],
   "source": [
    "scm.cgm.draw()"
   ],
   "metadata": {
    "collapsed": false,
    "pycharm": {
     "name": "#%%\n"
    }
   }
  },
  {
   "cell_type": "markdown",
   "source": [
    "## Model\n",
    "\n",
    "Now that we have the data loaded we also need a classification model.\n",
    "You could define your own [model](https://carla-counterfactual-and-recourse-library.readthedocs.io/en/latest/examples.html#black-box-model),\n",
    "however here we will show how you can train one of our [catalog](https://carla-counterfactual-and-recourse-library.readthedocs.io/en/latest/mlmodel.html#module-models.catalog.catalog) models.\n",
    "Note that depending on your data you might need to tweak the training hyperparameters."
   ],
   "metadata": {
    "collapsed": false,
    "pycharm": {
     "name": "#%% md\n"
    }
   }
  },
  {
   "cell_type": "code",
   "execution_count": 4,
   "outputs": [],
   "source": [
    "from carla.models.catalog import MLModelCatalog"
   ],
   "metadata": {
    "collapsed": false,
    "pycharm": {
     "name": "#%%\n"
    }
   }
  },
  {
   "cell_type": "code",
   "execution_count": 5,
   "outputs": [
    {
     "name": "stdout",
     "output_type": "stream",
     "text": [
      "balance on test set 0.5141333333333333, balance on test set 0.5272\n",
      "Epoch 0/9\n",
      "----------\n",
      "train Loss: 0.3865 Acc: 0.8229\n",
      "\n",
      "test Loss: 0.3775 Acc: 0.8268\n",
      "\n",
      "Epoch 1/9\n",
      "----------\n",
      "train Loss: 0.3736 Acc: 0.8273\n",
      "\n",
      "test Loss: 0.3694 Acc: 0.8304\n",
      "\n",
      "Epoch 2/9\n",
      "----------\n",
      "train Loss: 0.3732 Acc: 0.8297\n",
      "\n",
      "test Loss: 0.3702 Acc: 0.8300\n",
      "\n",
      "Epoch 3/9\n",
      "----------\n",
      "train Loss: 0.3720 Acc: 0.8313\n",
      "\n",
      "test Loss: 0.3702 Acc: 0.8296\n",
      "\n",
      "Epoch 4/9\n",
      "----------\n",
      "train Loss: 0.3714 Acc: 0.8295\n",
      "\n",
      "test Loss: 0.3698 Acc: 0.8300\n",
      "\n",
      "Epoch 5/9\n",
      "----------\n",
      "train Loss: 0.3715 Acc: 0.8305\n",
      "\n",
      "test Loss: 0.3692 Acc: 0.8316\n",
      "\n",
      "Epoch 6/9\n",
      "----------\n",
      "train Loss: 0.3702 Acc: 0.8341\n",
      "\n",
      "test Loss: 0.3824 Acc: 0.8268\n",
      "\n",
      "Epoch 7/9\n",
      "----------\n",
      "train Loss: 0.3708 Acc: 0.8303\n",
      "\n",
      "test Loss: 0.3689 Acc: 0.8308\n",
      "\n",
      "Epoch 8/9\n",
      "----------\n",
      "train Loss: 0.3719 Acc: 0.8305\n",
      "\n",
      "test Loss: 0.3687 Acc: 0.8308\n",
      "\n",
      "Epoch 9/9\n",
      "----------\n",
      "train Loss: 0.3701 Acc: 0.8327\n",
      "\n",
      "test Loss: 0.3675 Acc: 0.8308\n",
      "\n"
     ]
    }
   ],
   "source": [
    "training_params = {\"lr\": 0.01, \"epochs\": 10, \"batch_size\": 16, \"hidden_size\": [18, 9, 3]}\n",
    "\n",
    "ml_model = MLModelCatalog(\n",
    "    dataset, model_type=\"ann\", load_online=False, backend=\"pytorch\"\n",
    ")\n",
    "ml_model.train(\n",
    "    learning_rate=training_params[\"lr\"],\n",
    "    epochs=training_params[\"epochs\"],\n",
    "    batch_size=training_params[\"batch_size\"],\n",
    "    hidden_size=training_params[\"hidden_size\"],\n",
    "    force_train=True\n",
    ")"
   ],
   "metadata": {
    "collapsed": false,
    "pycharm": {
     "name": "#%%\n"
    }
   }
  },
  {
   "cell_type": "markdown",
   "source": [
    "## Recourse\n",
    "\n",
    "Now that we have both the data, and a model we can start using CARLA to generate counterfactuals.\n",
    "In the following example we are getting negative labeled samples for which we want counterfactuals."
   ],
   "metadata": {
    "collapsed": false,
    "pycharm": {
     "name": "#%% md\n"
    }
   }
  },
  {
   "cell_type": "code",
   "execution_count": 6,
   "outputs": [],
   "source": [
    "from carla.models.negative_instances import predict_negative_instances\n",
    "from carla.recourse_methods.catalog.causal_recourse import (\n",
    "    CausalRecourse,\n",
    "    constraints,\n",
    "    samplers,\n",
    ")"
   ],
   "metadata": {
    "collapsed": false,
    "pycharm": {
     "name": "#%%\n"
    }
   }
  },
  {
   "cell_type": "code",
   "execution_count": 7,
   "outputs": [],
   "source": [
    "# get factuals\n",
    "factuals = predict_negative_instances(ml_model, dataset.df)\n",
    "test_factual = factuals.iloc[:5]"
   ],
   "metadata": {
    "collapsed": false,
    "pycharm": {
     "name": "#%%\n"
    }
   }
  },
  {
   "cell_type": "code",
   "execution_count": 8,
   "outputs": [
    {
     "data": {
      "text/plain": "         x2        x1        x3\n0  4.875700 -2.170740 -0.000079\n1 -2.899361  1.684761 -1.002269\n2 -7.100980  7.913797 -1.312688\n3 -0.499893  0.684368 -2.310247\n4 -1.516558  0.116863  0.610931",
      "text/html": "<div>\n<style scoped>\n    .dataframe tbody tr th:only-of-type {\n        vertical-align: middle;\n    }\n\n    .dataframe tbody tr th {\n        vertical-align: top;\n    }\n\n    .dataframe thead th {\n        text-align: right;\n    }\n</style>\n<table border=\"1\" class=\"dataframe\">\n  <thead>\n    <tr style=\"text-align: right;\">\n      <th></th>\n      <th>x2</th>\n      <th>x1</th>\n      <th>x3</th>\n    </tr>\n  </thead>\n  <tbody>\n    <tr>\n      <th>0</th>\n      <td>4.875700</td>\n      <td>-2.170740</td>\n      <td>-0.000079</td>\n    </tr>\n    <tr>\n      <th>1</th>\n      <td>-2.899361</td>\n      <td>1.684761</td>\n      <td>-1.002269</td>\n    </tr>\n    <tr>\n      <th>2</th>\n      <td>-7.100980</td>\n      <td>7.913797</td>\n      <td>-1.312688</td>\n    </tr>\n    <tr>\n      <th>3</th>\n      <td>-0.499893</td>\n      <td>0.684368</td>\n      <td>-2.310247</td>\n    </tr>\n    <tr>\n      <th>4</th>\n      <td>-1.516558</td>\n      <td>0.116863</td>\n      <td>0.610931</td>\n    </tr>\n  </tbody>\n</table>\n</div>"
     },
     "metadata": {},
     "output_type": "display_data"
    }
   ],
   "source": [
    "hyperparams = {\n",
    "    \"optimization_approach\": \"brute_force\",\n",
    "    \"num_samples\": 10,\n",
    "    \"scm\": scm,\n",
    "    \"constraint_handle\": constraints.point_constraint,\n",
    "    \"sampler_handle\": samplers.sample_true_m0,\n",
    "}\n",
    "cfs = CausalRecourse(ml_model, hyperparams).get_counterfactuals(test_factual)\n",
    "\n",
    "display(cfs)\n"
   ],
   "metadata": {
    "collapsed": false,
    "pycharm": {
     "name": "#%%\n"
    }
   }
  }
 ],
 "metadata": {
  "kernelspec": {
   "display_name": "Python 3",
   "language": "python",
   "name": "python3"
  },
  "language_info": {
   "codemirror_mode": {
    "name": "ipython",
    "version": 2
   },
   "file_extension": ".py",
   "mimetype": "text/x-python",
   "name": "python",
   "nbconvert_exporter": "python",
   "pygments_lexer": "ipython2",
   "version": "2.7.6"
  }
 },
 "nbformat": 4,
 "nbformat_minor": 0
}
